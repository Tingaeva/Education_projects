{
 "cells": [
  {
   "cell_type": "markdown",
   "metadata": {},
   "source": [
    "# Исследование объявлений о продаже квартир"
   ]
  },
  {
   "cell_type": "markdown",
   "metadata": {},
   "source": [
    "## Описание проекта\n",
    "\n",
    "В нашем распоряжении данные сервиса Яндекс.Недвижимость — архив объявлений о продаже квартир в Санкт-Петербурге и соседних населённых пунктов за несколько лет. Необходимо провести первичный исследовательский анализ данных. Посмотреть на описательную статистику и графики для каждого параметра. Определить нетипичные значения.\n",
    "\n",
    "Это поможет в будущем построить автоматизированную систему: она отследит аномалии и мошенническую деятельность.\n",
    "\n",
    "По каждой квартире на продажу доступны два вида данных. Первые вписаны пользователем, вторые — получены автоматически на основе картографических данных. Например, расстояние до центра, аэропорта, ближайшего парка и водоёма. "
   ]
  },
  {
   "cell_type": "markdown",
   "metadata": {},
   "source": [
    "## Описание данных\n",
    "\n",
    "- *airports_nearest* — расстояние до ближайшего аэропорта в метрах (м)\n",
    "- *balcony* — число балконов\n",
    "- *ceiling_height* — высота потолков (м)\n",
    "- *cityCenters_nearest* — расстояние до центра города (м)\n",
    "- *days_exposition* — сколько дней было размещено объявление (от публикации до снятия)\n",
    "- *first_day_exposition* — дата публикации\n",
    "- *floor* — этаж\n",
    "- *floors_total* — всего этажей в доме\n",
    "- *is_apartment* — апартаменты (булев тип)\n",
    "- *kitchen_area* — площадь кухни в квадратных метрах (м²)\n",
    "- *last_price* — цена на момент снятия с публикации\n",
    "- *living_area* — жилая площадь в квадратных метрах(м²)\n",
    "- *locality_name* — название населённого пункта\n",
    "- *open_plan* — свободная планировка (булев тип)\n",
    "- *parks_around3000* — число парков в радиусе 3 км\n",
    "- *parks_nearest* — расстояние до ближайшего парка (м)\n",
    "- *ponds_around3000* — число водоёмов в радиусе 3 км\n",
    "- *ponds_nearest* — расстояние до ближайшего водоёма (м)\n",
    "- *rooms* — число комнат\n",
    "- *studio* — квартира-студия (булев тип)\n",
    "- *total_area* — площадь квартиры в квадратных метрах (м²)\n",
    "- *total_images* — число фотографий квартиры в объявлении\n",
    "\n",
    "Пояснение: апартаменты — это нежилые помещения, не относящиеся к жилому фонду, но имеющие необходимые условия для проживания."
   ]
  },
  {
   "cell_type": "markdown",
   "metadata": {},
   "source": [
    "## Содержание\n",
    "\n",
    "1. Файл с данными, общая информация.\n",
    "2. Предобработка данных.\n",
    "3. Добавление в таблицу доп.столбцов.\n",
    "4. Исследовательский анализ данных.\n",
    "5. Общие выводы. "
   ]
  },
  {
   "cell_type": "markdown",
   "metadata": {},
   "source": [
    "## Основные гипотезы"
   ]
  },
  {
   "cell_type": "markdown",
   "metadata": {},
   "source": [
    "- Цена квартры зависит от площади и числа комнат (прямая зависимость), удаленности от центра (обратная зависимость).\n",
    "- Цена квартиры зависит от того, на каком этаже расположена квартира (первые и последние этажи обычно дешевле).\n",
    "- Цена квартиры будет отличаться в зависимости от дня недели, месяца и года размещения объявления на сайте.\n",
    "- Цена квартир в Санкт-Петербурге выше, чем в близлежащих небольших городах.\n",
    "- Средние показатели для центра города будут отличаться от средних генеральной совокупности."
   ]
  },
  {
   "cell_type": "markdown",
   "metadata": {},
   "source": [
    "### Шаг 1. Откройте файл с данными и изучите общую информацию. "
   ]
  },
  {
   "cell_type": "code",
   "execution_count": 264,
   "metadata": {},
   "outputs": [],
   "source": [
    "#Импорт библиотек\n",
    "import pandas as pd\n",
    "import matplotlib.pyplot as plt"
   ]
  },
  {
   "cell_type": "code",
   "execution_count": 265,
   "metadata": {
    "scrolled": true
   },
   "outputs": [
    {
     "data": {
      "text/html": [
       "<div>\n",
       "<style scoped>\n",
       "    .dataframe tbody tr th:only-of-type {\n",
       "        vertical-align: middle;\n",
       "    }\n",
       "\n",
       "    .dataframe tbody tr th {\n",
       "        vertical-align: top;\n",
       "    }\n",
       "\n",
       "    .dataframe thead th {\n",
       "        text-align: right;\n",
       "    }\n",
       "</style>\n",
       "<table border=\"1\" class=\"dataframe\">\n",
       "  <thead>\n",
       "    <tr style=\"text-align: right;\">\n",
       "      <th></th>\n",
       "      <th>0</th>\n",
       "      <th>1</th>\n",
       "      <th>2</th>\n",
       "      <th>3</th>\n",
       "      <th>4</th>\n",
       "    </tr>\n",
       "  </thead>\n",
       "  <tbody>\n",
       "    <tr>\n",
       "      <td>total_images</td>\n",
       "      <td>20</td>\n",
       "      <td>7</td>\n",
       "      <td>10</td>\n",
       "      <td>0</td>\n",
       "      <td>2</td>\n",
       "    </tr>\n",
       "    <tr>\n",
       "      <td>last_price</td>\n",
       "      <td>1.3e+07</td>\n",
       "      <td>3.35e+06</td>\n",
       "      <td>5.196e+06</td>\n",
       "      <td>6.49e+07</td>\n",
       "      <td>1e+07</td>\n",
       "    </tr>\n",
       "    <tr>\n",
       "      <td>total_area</td>\n",
       "      <td>108</td>\n",
       "      <td>40.4</td>\n",
       "      <td>56</td>\n",
       "      <td>159</td>\n",
       "      <td>100</td>\n",
       "    </tr>\n",
       "    <tr>\n",
       "      <td>first_day_exposition</td>\n",
       "      <td>2019-03-07T00:00:00</td>\n",
       "      <td>2018-12-04T00:00:00</td>\n",
       "      <td>2015-08-20T00:00:00</td>\n",
       "      <td>2015-07-24T00:00:00</td>\n",
       "      <td>2018-06-19T00:00:00</td>\n",
       "    </tr>\n",
       "    <tr>\n",
       "      <td>rooms</td>\n",
       "      <td>3</td>\n",
       "      <td>1</td>\n",
       "      <td>2</td>\n",
       "      <td>3</td>\n",
       "      <td>2</td>\n",
       "    </tr>\n",
       "    <tr>\n",
       "      <td>ceiling_height</td>\n",
       "      <td>2.7</td>\n",
       "      <td>NaN</td>\n",
       "      <td>NaN</td>\n",
       "      <td>NaN</td>\n",
       "      <td>3.03</td>\n",
       "    </tr>\n",
       "    <tr>\n",
       "      <td>floors_total</td>\n",
       "      <td>16</td>\n",
       "      <td>11</td>\n",
       "      <td>5</td>\n",
       "      <td>14</td>\n",
       "      <td>14</td>\n",
       "    </tr>\n",
       "    <tr>\n",
       "      <td>living_area</td>\n",
       "      <td>51</td>\n",
       "      <td>18.6</td>\n",
       "      <td>34.3</td>\n",
       "      <td>NaN</td>\n",
       "      <td>32</td>\n",
       "    </tr>\n",
       "    <tr>\n",
       "      <td>floor</td>\n",
       "      <td>8</td>\n",
       "      <td>1</td>\n",
       "      <td>4</td>\n",
       "      <td>9</td>\n",
       "      <td>13</td>\n",
       "    </tr>\n",
       "    <tr>\n",
       "      <td>is_apartment</td>\n",
       "      <td>NaN</td>\n",
       "      <td>NaN</td>\n",
       "      <td>NaN</td>\n",
       "      <td>NaN</td>\n",
       "      <td>NaN</td>\n",
       "    </tr>\n",
       "    <tr>\n",
       "      <td>studio</td>\n",
       "      <td>False</td>\n",
       "      <td>False</td>\n",
       "      <td>False</td>\n",
       "      <td>False</td>\n",
       "      <td>False</td>\n",
       "    </tr>\n",
       "    <tr>\n",
       "      <td>open_plan</td>\n",
       "      <td>False</td>\n",
       "      <td>False</td>\n",
       "      <td>False</td>\n",
       "      <td>False</td>\n",
       "      <td>False</td>\n",
       "    </tr>\n",
       "    <tr>\n",
       "      <td>kitchen_area</td>\n",
       "      <td>25</td>\n",
       "      <td>11</td>\n",
       "      <td>8.3</td>\n",
       "      <td>NaN</td>\n",
       "      <td>41</td>\n",
       "    </tr>\n",
       "    <tr>\n",
       "      <td>balcony</td>\n",
       "      <td>NaN</td>\n",
       "      <td>2</td>\n",
       "      <td>0</td>\n",
       "      <td>0</td>\n",
       "      <td>NaN</td>\n",
       "    </tr>\n",
       "    <tr>\n",
       "      <td>locality_name</td>\n",
       "      <td>Санкт-Петербург</td>\n",
       "      <td>посёлок Шушары</td>\n",
       "      <td>Санкт-Петербург</td>\n",
       "      <td>Санкт-Петербург</td>\n",
       "      <td>Санкт-Петербург</td>\n",
       "    </tr>\n",
       "    <tr>\n",
       "      <td>airports_nearest</td>\n",
       "      <td>18863</td>\n",
       "      <td>12817</td>\n",
       "      <td>21741</td>\n",
       "      <td>28098</td>\n",
       "      <td>31856</td>\n",
       "    </tr>\n",
       "    <tr>\n",
       "      <td>cityCenters_nearest</td>\n",
       "      <td>16028</td>\n",
       "      <td>18603</td>\n",
       "      <td>13933</td>\n",
       "      <td>6800</td>\n",
       "      <td>8098</td>\n",
       "    </tr>\n",
       "    <tr>\n",
       "      <td>parks_around3000</td>\n",
       "      <td>1</td>\n",
       "      <td>0</td>\n",
       "      <td>1</td>\n",
       "      <td>2</td>\n",
       "      <td>2</td>\n",
       "    </tr>\n",
       "    <tr>\n",
       "      <td>parks_nearest</td>\n",
       "      <td>482</td>\n",
       "      <td>NaN</td>\n",
       "      <td>90</td>\n",
       "      <td>84</td>\n",
       "      <td>112</td>\n",
       "    </tr>\n",
       "    <tr>\n",
       "      <td>ponds_around3000</td>\n",
       "      <td>2</td>\n",
       "      <td>0</td>\n",
       "      <td>2</td>\n",
       "      <td>3</td>\n",
       "      <td>1</td>\n",
       "    </tr>\n",
       "    <tr>\n",
       "      <td>ponds_nearest</td>\n",
       "      <td>755</td>\n",
       "      <td>NaN</td>\n",
       "      <td>574</td>\n",
       "      <td>234</td>\n",
       "      <td>48</td>\n",
       "    </tr>\n",
       "    <tr>\n",
       "      <td>days_exposition</td>\n",
       "      <td>NaN</td>\n",
       "      <td>81</td>\n",
       "      <td>558</td>\n",
       "      <td>424</td>\n",
       "      <td>121</td>\n",
       "    </tr>\n",
       "  </tbody>\n",
       "</table>\n",
       "</div>"
      ],
      "text/plain": [
       "                                        0                    1  \\\n",
       "total_images                           20                    7   \n",
       "last_price                        1.3e+07             3.35e+06   \n",
       "total_area                            108                 40.4   \n",
       "first_day_exposition  2019-03-07T00:00:00  2018-12-04T00:00:00   \n",
       "rooms                                   3                    1   \n",
       "ceiling_height                        2.7                  NaN   \n",
       "floors_total                           16                   11   \n",
       "living_area                            51                 18.6   \n",
       "floor                                   8                    1   \n",
       "is_apartment                          NaN                  NaN   \n",
       "studio                              False                False   \n",
       "open_plan                           False                False   \n",
       "kitchen_area                           25                   11   \n",
       "balcony                               NaN                    2   \n",
       "locality_name             Санкт-Петербург       посёлок Шушары   \n",
       "airports_nearest                    18863                12817   \n",
       "cityCenters_nearest                 16028                18603   \n",
       "parks_around3000                        1                    0   \n",
       "parks_nearest                         482                  NaN   \n",
       "ponds_around3000                        2                    0   \n",
       "ponds_nearest                         755                  NaN   \n",
       "days_exposition                       NaN                   81   \n",
       "\n",
       "                                        2                    3  \\\n",
       "total_images                           10                    0   \n",
       "last_price                      5.196e+06             6.49e+07   \n",
       "total_area                             56                  159   \n",
       "first_day_exposition  2015-08-20T00:00:00  2015-07-24T00:00:00   \n",
       "rooms                                   2                    3   \n",
       "ceiling_height                        NaN                  NaN   \n",
       "floors_total                            5                   14   \n",
       "living_area                          34.3                  NaN   \n",
       "floor                                   4                    9   \n",
       "is_apartment                          NaN                  NaN   \n",
       "studio                              False                False   \n",
       "open_plan                           False                False   \n",
       "kitchen_area                          8.3                  NaN   \n",
       "balcony                                 0                    0   \n",
       "locality_name             Санкт-Петербург      Санкт-Петербург   \n",
       "airports_nearest                    21741                28098   \n",
       "cityCenters_nearest                 13933                 6800   \n",
       "parks_around3000                        1                    2   \n",
       "parks_nearest                          90                   84   \n",
       "ponds_around3000                        2                    3   \n",
       "ponds_nearest                         574                  234   \n",
       "days_exposition                       558                  424   \n",
       "\n",
       "                                        4  \n",
       "total_images                            2  \n",
       "last_price                          1e+07  \n",
       "total_area                            100  \n",
       "first_day_exposition  2018-06-19T00:00:00  \n",
       "rooms                                   2  \n",
       "ceiling_height                       3.03  \n",
       "floors_total                           14  \n",
       "living_area                            32  \n",
       "floor                                  13  \n",
       "is_apartment                          NaN  \n",
       "studio                              False  \n",
       "open_plan                           False  \n",
       "kitchen_area                           41  \n",
       "balcony                               NaN  \n",
       "locality_name             Санкт-Петербург  \n",
       "airports_nearest                    31856  \n",
       "cityCenters_nearest                  8098  \n",
       "parks_around3000                        2  \n",
       "parks_nearest                         112  \n",
       "ponds_around3000                        1  \n",
       "ponds_nearest                          48  \n",
       "days_exposition                       121  "
      ]
     },
     "execution_count": 265,
     "metadata": {},
     "output_type": "execute_result"
    }
   ],
   "source": [
    "data_flats=pd.read_csv('/datasets/real_estate_data.csv', sep='\\t')\n",
    "data_flats.head().T"
   ]
  },
  {
   "cell_type": "code",
   "execution_count": 266,
   "metadata": {},
   "outputs": [
    {
     "name": "stdout",
     "output_type": "stream",
     "text": [
      "<class 'pandas.core.frame.DataFrame'>\n",
      "RangeIndex: 23699 entries, 0 to 23698\n",
      "Data columns (total 22 columns):\n",
      "total_images            23699 non-null int64\n",
      "last_price              23699 non-null float64\n",
      "total_area              23699 non-null float64\n",
      "first_day_exposition    23699 non-null object\n",
      "rooms                   23699 non-null int64\n",
      "ceiling_height          14504 non-null float64\n",
      "floors_total            23613 non-null float64\n",
      "living_area             21796 non-null float64\n",
      "floor                   23699 non-null int64\n",
      "is_apartment            2775 non-null object\n",
      "studio                  23699 non-null bool\n",
      "open_plan               23699 non-null bool\n",
      "kitchen_area            21421 non-null float64\n",
      "balcony                 12180 non-null float64\n",
      "locality_name           23650 non-null object\n",
      "airports_nearest        18157 non-null float64\n",
      "cityCenters_nearest     18180 non-null float64\n",
      "parks_around3000        18181 non-null float64\n",
      "parks_nearest           8079 non-null float64\n",
      "ponds_around3000        18181 non-null float64\n",
      "ponds_nearest           9110 non-null float64\n",
      "days_exposition         20518 non-null float64\n",
      "dtypes: bool(2), float64(14), int64(3), object(3)\n",
      "memory usage: 3.7+ MB\n"
     ]
    }
   ],
   "source": [
    "data_flats.info()"
   ]
  },
  {
   "cell_type": "markdown",
   "metadata": {},
   "source": [
    "### Вывод"
   ]
  },
  {
   "cell_type": "markdown",
   "metadata": {},
   "source": [
    "В выборке 23699 наблюдений. Типы переменных: булевы значения - 2 шт., вещественные числа - 14 шт., целые числа - 3 шт., текстовые - 3 шт. Есть пропущенные значения. "
   ]
  },
  {
   "cell_type": "markdown",
   "metadata": {},
   "source": [
    "Далее проверим пропущенные значения, заполним их там, где это возможно. Изменим типы некоторых переменных на более корректные. Преобразуем единицы измерения для дальнейшего анализа данных."
   ]
  },
  {
   "cell_type": "markdown",
   "metadata": {},
   "source": [
    "### Шаг 2. Предобработка данных"
   ]
  },
  {
   "cell_type": "code",
   "execution_count": 267,
   "metadata": {},
   "outputs": [
    {
     "data": {
      "text/plain": [
       "total_images                0\n",
       "last_price                  0\n",
       "total_area                  0\n",
       "first_day_exposition        0\n",
       "rooms                       0\n",
       "ceiling_height           9195\n",
       "floors_total               86\n",
       "living_area              1903\n",
       "floor                       0\n",
       "is_apartment            20924\n",
       "studio                      0\n",
       "open_plan                   0\n",
       "kitchen_area             2278\n",
       "balcony                 11519\n",
       "locality_name              49\n",
       "airports_nearest         5542\n",
       "cityCenters_nearest      5519\n",
       "parks_around3000         5518\n",
       "parks_nearest           15620\n",
       "ponds_around3000         5518\n",
       "ponds_nearest           14589\n",
       "days_exposition          3181\n",
       "dtype: int64"
      ]
     },
     "execution_count": 267,
     "metadata": {},
     "output_type": "execute_result"
    }
   ],
   "source": [
    "#Подсчет пропущенных значений в каждом столбце\n",
    "data_flats.isnull().sum()"
   ]
  },
  {
   "cell_type": "markdown",
   "metadata": {},
   "source": [
    "### Анализ и замена пропущенных значений\n",
    "\n",
    "ceiling_height - высота потолков (м) - 9195 пропусков (39% от выборки). По какой-то причине продавец не смог или не захотел предоставить эту информацию, возможно, потому что показатели были не самыми привлекательными. Но этого мы точно сказать не можем, оставим пропуски.\n",
    "\n",
    "floors_total - всего этажей в доме - 86 пропусков (менее 1% от выборки). При обзоре этих строк, явных зависимостей пропусков от значений в других столбцах не наблюдается. Оставим пропуски."
   ]
  },
  {
   "cell_type": "code",
   "execution_count": 268,
   "metadata": {
    "scrolled": true
   },
   "outputs": [
    {
     "data": {
      "text/html": [
       "<div>\n",
       "<style scoped>\n",
       "    .dataframe tbody tr th:only-of-type {\n",
       "        vertical-align: middle;\n",
       "    }\n",
       "\n",
       "    .dataframe tbody tr th {\n",
       "        vertical-align: top;\n",
       "    }\n",
       "\n",
       "    .dataframe thead th {\n",
       "        text-align: right;\n",
       "    }\n",
       "</style>\n",
       "<table border=\"1\" class=\"dataframe\">\n",
       "  <thead>\n",
       "    <tr style=\"text-align: right;\">\n",
       "      <th></th>\n",
       "      <th>total_images</th>\n",
       "      <th>last_price</th>\n",
       "      <th>total_area</th>\n",
       "      <th>first_day_exposition</th>\n",
       "      <th>rooms</th>\n",
       "      <th>ceiling_height</th>\n",
       "      <th>floors_total</th>\n",
       "      <th>living_area</th>\n",
       "      <th>floor</th>\n",
       "      <th>is_apartment</th>\n",
       "      <th>...</th>\n",
       "      <th>kitchen_area</th>\n",
       "      <th>balcony</th>\n",
       "      <th>locality_name</th>\n",
       "      <th>airports_nearest</th>\n",
       "      <th>cityCenters_nearest</th>\n",
       "      <th>parks_around3000</th>\n",
       "      <th>parks_nearest</th>\n",
       "      <th>ponds_around3000</th>\n",
       "      <th>ponds_nearest</th>\n",
       "      <th>days_exposition</th>\n",
       "    </tr>\n",
       "  </thead>\n",
       "  <tbody>\n",
       "    <tr>\n",
       "      <td>3</td>\n",
       "      <td>0</td>\n",
       "      <td>64900000.0</td>\n",
       "      <td>159.00</td>\n",
       "      <td>2015-07-24T00:00:00</td>\n",
       "      <td>3</td>\n",
       "      <td>NaN</td>\n",
       "      <td>14.0</td>\n",
       "      <td>NaN</td>\n",
       "      <td>9</td>\n",
       "      <td>NaN</td>\n",
       "      <td>...</td>\n",
       "      <td>NaN</td>\n",
       "      <td>0.0</td>\n",
       "      <td>Санкт-Петербург</td>\n",
       "      <td>28098.0</td>\n",
       "      <td>6800.0</td>\n",
       "      <td>2.0</td>\n",
       "      <td>84.0</td>\n",
       "      <td>3.0</td>\n",
       "      <td>234.0</td>\n",
       "      <td>424.0</td>\n",
       "    </tr>\n",
       "    <tr>\n",
       "      <td>7</td>\n",
       "      <td>5</td>\n",
       "      <td>7915000.0</td>\n",
       "      <td>71.60</td>\n",
       "      <td>2019-04-18T00:00:00</td>\n",
       "      <td>2</td>\n",
       "      <td>NaN</td>\n",
       "      <td>24.0</td>\n",
       "      <td>NaN</td>\n",
       "      <td>22</td>\n",
       "      <td>NaN</td>\n",
       "      <td>...</td>\n",
       "      <td>18.9</td>\n",
       "      <td>2.0</td>\n",
       "      <td>Санкт-Петербург</td>\n",
       "      <td>23982.0</td>\n",
       "      <td>11634.0</td>\n",
       "      <td>0.0</td>\n",
       "      <td>NaN</td>\n",
       "      <td>0.0</td>\n",
       "      <td>NaN</td>\n",
       "      <td>NaN</td>\n",
       "    </tr>\n",
       "    <tr>\n",
       "      <td>30</td>\n",
       "      <td>12</td>\n",
       "      <td>2200000.0</td>\n",
       "      <td>32.80</td>\n",
       "      <td>2018-02-19T00:00:00</td>\n",
       "      <td>1</td>\n",
       "      <td>NaN</td>\n",
       "      <td>9.0</td>\n",
       "      <td>NaN</td>\n",
       "      <td>2</td>\n",
       "      <td>NaN</td>\n",
       "      <td>...</td>\n",
       "      <td>NaN</td>\n",
       "      <td>NaN</td>\n",
       "      <td>Коммунар</td>\n",
       "      <td>NaN</td>\n",
       "      <td>NaN</td>\n",
       "      <td>NaN</td>\n",
       "      <td>NaN</td>\n",
       "      <td>NaN</td>\n",
       "      <td>NaN</td>\n",
       "      <td>63.0</td>\n",
       "    </tr>\n",
       "    <tr>\n",
       "      <td>37</td>\n",
       "      <td>10</td>\n",
       "      <td>1990000.0</td>\n",
       "      <td>45.80</td>\n",
       "      <td>2017-10-28T00:00:00</td>\n",
       "      <td>2</td>\n",
       "      <td>2.50</td>\n",
       "      <td>5.0</td>\n",
       "      <td>NaN</td>\n",
       "      <td>1</td>\n",
       "      <td>NaN</td>\n",
       "      <td>...</td>\n",
       "      <td>NaN</td>\n",
       "      <td>NaN</td>\n",
       "      <td>поселок городского типа Красный Бор</td>\n",
       "      <td>NaN</td>\n",
       "      <td>NaN</td>\n",
       "      <td>NaN</td>\n",
       "      <td>NaN</td>\n",
       "      <td>NaN</td>\n",
       "      <td>NaN</td>\n",
       "      <td>196.0</td>\n",
       "    </tr>\n",
       "    <tr>\n",
       "      <td>44</td>\n",
       "      <td>13</td>\n",
       "      <td>5350000.0</td>\n",
       "      <td>40.00</td>\n",
       "      <td>2018-11-18T00:00:00</td>\n",
       "      <td>1</td>\n",
       "      <td>NaN</td>\n",
       "      <td>22.0</td>\n",
       "      <td>NaN</td>\n",
       "      <td>3</td>\n",
       "      <td>NaN</td>\n",
       "      <td>...</td>\n",
       "      <td>NaN</td>\n",
       "      <td>1.0</td>\n",
       "      <td>Санкт-Петербург</td>\n",
       "      <td>30471.0</td>\n",
       "      <td>11603.0</td>\n",
       "      <td>1.0</td>\n",
       "      <td>620.0</td>\n",
       "      <td>1.0</td>\n",
       "      <td>1152.0</td>\n",
       "      <td>NaN</td>\n",
       "    </tr>\n",
       "    <tr>\n",
       "      <td>...</td>\n",
       "      <td>...</td>\n",
       "      <td>...</td>\n",
       "      <td>...</td>\n",
       "      <td>...</td>\n",
       "      <td>...</td>\n",
       "      <td>...</td>\n",
       "      <td>...</td>\n",
       "      <td>...</td>\n",
       "      <td>...</td>\n",
       "      <td>...</td>\n",
       "      <td>...</td>\n",
       "      <td>...</td>\n",
       "      <td>...</td>\n",
       "      <td>...</td>\n",
       "      <td>...</td>\n",
       "      <td>...</td>\n",
       "      <td>...</td>\n",
       "      <td>...</td>\n",
       "      <td>...</td>\n",
       "      <td>...</td>\n",
       "      <td>...</td>\n",
       "    </tr>\n",
       "    <tr>\n",
       "      <td>23642</td>\n",
       "      <td>14</td>\n",
       "      <td>5950000.0</td>\n",
       "      <td>80.30</td>\n",
       "      <td>2018-07-03T00:00:00</td>\n",
       "      <td>3</td>\n",
       "      <td>2.70</td>\n",
       "      <td>12.0</td>\n",
       "      <td>NaN</td>\n",
       "      <td>5</td>\n",
       "      <td>NaN</td>\n",
       "      <td>...</td>\n",
       "      <td>NaN</td>\n",
       "      <td>NaN</td>\n",
       "      <td>Колпино</td>\n",
       "      <td>27933.0</td>\n",
       "      <td>33719.0</td>\n",
       "      <td>0.0</td>\n",
       "      <td>NaN</td>\n",
       "      <td>2.0</td>\n",
       "      <td>562.0</td>\n",
       "      <td>60.0</td>\n",
       "    </tr>\n",
       "    <tr>\n",
       "      <td>23663</td>\n",
       "      <td>12</td>\n",
       "      <td>6400000.0</td>\n",
       "      <td>88.00</td>\n",
       "      <td>2018-01-12T00:00:00</td>\n",
       "      <td>4</td>\n",
       "      <td>2.55</td>\n",
       "      <td>10.0</td>\n",
       "      <td>NaN</td>\n",
       "      <td>1</td>\n",
       "      <td>NaN</td>\n",
       "      <td>...</td>\n",
       "      <td>NaN</td>\n",
       "      <td>NaN</td>\n",
       "      <td>Санкт-Петербург</td>\n",
       "      <td>33642.0</td>\n",
       "      <td>13943.0</td>\n",
       "      <td>0.0</td>\n",
       "      <td>NaN</td>\n",
       "      <td>2.0</td>\n",
       "      <td>844.0</td>\n",
       "      <td>59.0</td>\n",
       "    </tr>\n",
       "    <tr>\n",
       "      <td>23670</td>\n",
       "      <td>9</td>\n",
       "      <td>2450000.0</td>\n",
       "      <td>45.60</td>\n",
       "      <td>2018-02-08T00:00:00</td>\n",
       "      <td>1</td>\n",
       "      <td>2.80</td>\n",
       "      <td>9.0</td>\n",
       "      <td>NaN</td>\n",
       "      <td>2</td>\n",
       "      <td>NaN</td>\n",
       "      <td>...</td>\n",
       "      <td>NaN</td>\n",
       "      <td>NaN</td>\n",
       "      <td>поселок городского типа Синявино</td>\n",
       "      <td>NaN</td>\n",
       "      <td>NaN</td>\n",
       "      <td>NaN</td>\n",
       "      <td>NaN</td>\n",
       "      <td>NaN</td>\n",
       "      <td>NaN</td>\n",
       "      <td>45.0</td>\n",
       "    </tr>\n",
       "    <tr>\n",
       "      <td>23679</td>\n",
       "      <td>0</td>\n",
       "      <td>2500000.0</td>\n",
       "      <td>35.00</td>\n",
       "      <td>2017-12-08T00:00:00</td>\n",
       "      <td>1</td>\n",
       "      <td>NaN</td>\n",
       "      <td>9.0</td>\n",
       "      <td>NaN</td>\n",
       "      <td>4</td>\n",
       "      <td>NaN</td>\n",
       "      <td>...</td>\n",
       "      <td>NaN</td>\n",
       "      <td>NaN</td>\n",
       "      <td>Сосновый Бор</td>\n",
       "      <td>NaN</td>\n",
       "      <td>NaN</td>\n",
       "      <td>NaN</td>\n",
       "      <td>NaN</td>\n",
       "      <td>NaN</td>\n",
       "      <td>NaN</td>\n",
       "      <td>45.0</td>\n",
       "    </tr>\n",
       "    <tr>\n",
       "      <td>23697</td>\n",
       "      <td>13</td>\n",
       "      <td>11475000.0</td>\n",
       "      <td>76.75</td>\n",
       "      <td>2017-03-28T00:00:00</td>\n",
       "      <td>2</td>\n",
       "      <td>3.00</td>\n",
       "      <td>17.0</td>\n",
       "      <td>NaN</td>\n",
       "      <td>12</td>\n",
       "      <td>NaN</td>\n",
       "      <td>...</td>\n",
       "      <td>23.3</td>\n",
       "      <td>2.0</td>\n",
       "      <td>Санкт-Петербург</td>\n",
       "      <td>39140.0</td>\n",
       "      <td>10364.0</td>\n",
       "      <td>2.0</td>\n",
       "      <td>173.0</td>\n",
       "      <td>3.0</td>\n",
       "      <td>196.0</td>\n",
       "      <td>602.0</td>\n",
       "    </tr>\n",
       "  </tbody>\n",
       "</table>\n",
       "<p>1903 rows × 22 columns</p>\n",
       "</div>"
      ],
      "text/plain": [
       "       total_images  last_price  total_area first_day_exposition  rooms  \\\n",
       "3                 0  64900000.0      159.00  2015-07-24T00:00:00      3   \n",
       "7                 5   7915000.0       71.60  2019-04-18T00:00:00      2   \n",
       "30               12   2200000.0       32.80  2018-02-19T00:00:00      1   \n",
       "37               10   1990000.0       45.80  2017-10-28T00:00:00      2   \n",
       "44               13   5350000.0       40.00  2018-11-18T00:00:00      1   \n",
       "...             ...         ...         ...                  ...    ...   \n",
       "23642            14   5950000.0       80.30  2018-07-03T00:00:00      3   \n",
       "23663            12   6400000.0       88.00  2018-01-12T00:00:00      4   \n",
       "23670             9   2450000.0       45.60  2018-02-08T00:00:00      1   \n",
       "23679             0   2500000.0       35.00  2017-12-08T00:00:00      1   \n",
       "23697            13  11475000.0       76.75  2017-03-28T00:00:00      2   \n",
       "\n",
       "       ceiling_height  floors_total  living_area  floor is_apartment  ...  \\\n",
       "3                 NaN          14.0          NaN      9          NaN  ...   \n",
       "7                 NaN          24.0          NaN     22          NaN  ...   \n",
       "30                NaN           9.0          NaN      2          NaN  ...   \n",
       "37               2.50           5.0          NaN      1          NaN  ...   \n",
       "44                NaN          22.0          NaN      3          NaN  ...   \n",
       "...               ...           ...          ...    ...          ...  ...   \n",
       "23642            2.70          12.0          NaN      5          NaN  ...   \n",
       "23663            2.55          10.0          NaN      1          NaN  ...   \n",
       "23670            2.80           9.0          NaN      2          NaN  ...   \n",
       "23679             NaN           9.0          NaN      4          NaN  ...   \n",
       "23697            3.00          17.0          NaN     12          NaN  ...   \n",
       "\n",
       "       kitchen_area  balcony                        locality_name  \\\n",
       "3               NaN      0.0                      Санкт-Петербург   \n",
       "7              18.9      2.0                      Санкт-Петербург   \n",
       "30              NaN      NaN                             Коммунар   \n",
       "37              NaN      NaN  поселок городского типа Красный Бор   \n",
       "44              NaN      1.0                      Санкт-Петербург   \n",
       "...             ...      ...                                  ...   \n",
       "23642           NaN      NaN                              Колпино   \n",
       "23663           NaN      NaN                      Санкт-Петербург   \n",
       "23670           NaN      NaN     поселок городского типа Синявино   \n",
       "23679           NaN      NaN                         Сосновый Бор   \n",
       "23697          23.3      2.0                      Санкт-Петербург   \n",
       "\n",
       "       airports_nearest cityCenters_nearest  parks_around3000  parks_nearest  \\\n",
       "3               28098.0              6800.0               2.0           84.0   \n",
       "7               23982.0             11634.0               0.0            NaN   \n",
       "30                  NaN                 NaN               NaN            NaN   \n",
       "37                  NaN                 NaN               NaN            NaN   \n",
       "44              30471.0             11603.0               1.0          620.0   \n",
       "...                 ...                 ...               ...            ...   \n",
       "23642           27933.0             33719.0               0.0            NaN   \n",
       "23663           33642.0             13943.0               0.0            NaN   \n",
       "23670               NaN                 NaN               NaN            NaN   \n",
       "23679               NaN                 NaN               NaN            NaN   \n",
       "23697           39140.0             10364.0               2.0          173.0   \n",
       "\n",
       "       ponds_around3000  ponds_nearest  days_exposition  \n",
       "3                   3.0          234.0            424.0  \n",
       "7                   0.0            NaN              NaN  \n",
       "30                  NaN            NaN             63.0  \n",
       "37                  NaN            NaN            196.0  \n",
       "44                  1.0         1152.0              NaN  \n",
       "...                 ...            ...              ...  \n",
       "23642               2.0          562.0             60.0  \n",
       "23663               2.0          844.0             59.0  \n",
       "23670               NaN            NaN             45.0  \n",
       "23679               NaN            NaN             45.0  \n",
       "23697               3.0          196.0            602.0  \n",
       "\n",
       "[1903 rows x 22 columns]"
      ]
     },
     "execution_count": 268,
     "metadata": {},
     "output_type": "execute_result"
    }
   ],
   "source": [
    "#Обзор строк, для которых значение 'floors_total' пропущено\n",
    "data_flats[data_flats['living_area'].isnull()]"
   ]
  },
  {
   "cell_type": "markdown",
   "metadata": {},
   "source": [
    "living_area - жилая площадь в квадратных метрах - 1903 пропусков (8% от выборки). Найдем ср.знач. доли жилой площади в квартире по генеральной совокупности. Заполним пропущенные значения путем умножения этого значения на площадь квартиры. "
   ]
  },
  {
   "cell_type": "code",
   "execution_count": 269,
   "metadata": {},
   "outputs": [
    {
     "name": "stdout",
     "output_type": "stream",
     "text": [
      "Ср.знач. доли жилой площади в квартире: 0.5647655216993234\n",
      "Кол-во пропущенных значений после замены: 0\n"
     ]
    }
   ],
   "source": [
    "#Доля жилой от общей площади\n",
    "part_livspace=[]\n",
    "part_livspace=data_flats['living_area']/data_flats['total_area']\n",
    "part_livspace_mean=part_livspace.mean()\n",
    "print('Ср.знач. доли жилой площади в квартире:', part_livspace_mean)\n",
    "\n",
    "#Замена пропущенных значений\n",
    "data_flats['living_area']=data_flats['living_area'].fillna(data_flats['total_area']*part_livspace_mean)\n",
    "#Кол-во пропущенных значений после замены\n",
    "print('Кол-во пропущенных значений после замены:', data_flats['living_area'].isnull().sum())"
   ]
  },
  {
   "cell_type": "markdown",
   "metadata": {},
   "source": [
    "is_apartment - апартаменты (булев тип) - 20924 пропусков (88% от выборки). Скорее всего в пропущенных значениях в основном окажутся квартиры не относящиеся к апартаментам, но мы не можем это утверждать. В заполненных значениях есть и False и True. Оставим пропуски. "
   ]
  },
  {
   "cell_type": "code",
   "execution_count": 270,
   "metadata": {
    "scrolled": true
   },
   "outputs": [
    {
     "data": {
      "text/plain": [
       "False    2725\n",
       "True       50\n",
       "Name: is_apartment, dtype: int64"
      ]
     },
     "execution_count": 270,
     "metadata": {},
     "output_type": "execute_result"
    }
   ],
   "source": [
    "#Обзор значений 'is_apartment'\n",
    "data_flats['is_apartment'].value_counts()"
   ]
  },
  {
   "cell_type": "markdown",
   "metadata": {},
   "source": [
    "kitchen_area - площадь кухни в квадратных метрах - 2278 пропусков (10% от выборки). Найдем ср.знач. доли кухни в общей площади квартиры по генеральной совокупности. Заполним пропущенные значения путем умножения этого значения на площадь квартиры. "
   ]
  },
  {
   "cell_type": "code",
   "execution_count": 271,
   "metadata": {
    "scrolled": true
   },
   "outputs": [
    {
     "name": "stdout",
     "output_type": "stream",
     "text": [
      "Ср.знач. доли кухни в общей площади квартиры: 0.1873547387717406\n",
      "Кол-во пропущенных значений после замены: 0\n"
     ]
    }
   ],
   "source": [
    "#Доля кухни в общей площади квартиры\n",
    "part_kitchen_area=[]\n",
    "part_kitchen=data_flats['kitchen_area']/data_flats['total_area']\n",
    "part_kitchen_mean=part_kitchen.mean()\n",
    "print('Ср.знач. доли кухни в общей площади квартиры:', part_kitchen_mean)\n",
    "\n",
    "#Замена пропущенных значений\n",
    "data_flats['kitchen_area']=data_flats['kitchen_area'].fillna(data_flats['total_area']*part_kitchen_mean)\n",
    "#Кол-во пропущенных значений после замены\n",
    "print('Кол-во пропущенных значений после замены:', data_flats['kitchen_area'].isnull().sum())"
   ]
  },
  {
   "cell_type": "markdown",
   "metadata": {},
   "source": [
    "balcony - число балконов - 11519 пропусков (49% от выборки). Если человек не указал число балконов — скорее всего, их нет. Заменим пропущенные значения на 0."
   ]
  },
  {
   "cell_type": "code",
   "execution_count": 272,
   "metadata": {},
   "outputs": [
    {
     "name": "stdout",
     "output_type": "stream",
     "text": [
      "Кол-во пропущенных значений после замены: 0\n"
     ]
    }
   ],
   "source": [
    "#Замена пропущенных значений 'balcony'\n",
    "data_flats['balcony']=data_flats['balcony'].fillna(0)\n",
    "#Кол-во пропущенных значений после замены\n",
    "print('Кол-во пропущенных значений после замены:', data_flats['balcony'].isnull().sum())"
   ]
  },
  {
   "cell_type": "markdown",
   "metadata": {},
   "source": [
    "locality_name - название населённого пункта - 49 пропусков (менее 1%). Не можем определить, оставим пропуски. \n",
    "\n",
    "airports_nearest - расстояние до ближайшего аэропорта в метрах - 5542 пропусков (23% от выборки). Скорее всего, если расстояние до аэропорта не указано - он далеко. Но замена пропусков на максимальное значение, так же как и замена на среднее может привести к искажению результатов. Оставим пропуски.\n",
    "\n",
    "cityCenters_nearest  — расстояние до центра города (м) - 5519 пропусков (23% от выборки). Аналогично пропускам в переменной airports_nearest.\n",
    "\n",
    "parks_around3000 - число парков в радиусе 3 км - 5518 пропусков (23% от выборки). Если число парков рядом не прописано скорее всего их нет. Заменим пропуски на 0. "
   ]
  },
  {
   "cell_type": "code",
   "execution_count": 273,
   "metadata": {},
   "outputs": [
    {
     "name": "stdout",
     "output_type": "stream",
     "text": [
      "Кол-во пропущенных значений после замены: 0\n"
     ]
    }
   ],
   "source": [
    "#Замена пропущенных значений 'parks_around3000'\n",
    "data_flats['parks_around3000']=data_flats['parks_around3000'].fillna(0)\n",
    "#Кол-во пропущенных значений после замены\n",
    "print('Кол-во пропущенных значений после замены:', data_flats['parks_around3000'].isnull().sum())"
   ]
  },
  {
   "cell_type": "markdown",
   "metadata": {},
   "source": [
    "parks_nearest - расстояние до ближайшего парка (м) - 15620 пропусков (66% от выборки). Аналогично пропускам в переменной airports_nearest.\n",
    "\n",
    "ponds_around3000 - число водоёмов в радиусе 3 км - 5518 пропусков (23% от выборки). Если число водоемов рядом не прописано скорее всего их нет. Заменим пропуски на 0."
   ]
  },
  {
   "cell_type": "code",
   "execution_count": 274,
   "metadata": {},
   "outputs": [
    {
     "name": "stdout",
     "output_type": "stream",
     "text": [
      "Кол-во пропущенных значений после замены: 0\n"
     ]
    }
   ],
   "source": [
    "#Замена пропущенных значений 'ponds_around3000'\n",
    "data_flats['ponds_around3000']=data_flats['ponds_around3000'].fillna(0)\n",
    "#Кол-во пропущенных значений после замены\n",
    "print('Кол-во пропущенных значений после замены:', data_flats['ponds_around3000'].isnull().sum())"
   ]
  },
  {
   "cell_type": "markdown",
   "metadata": {},
   "source": [
    "ponds_nearest - расстояние до ближайшего водоёма (м) - 14589 пропусков (62% от выборки). Аналогично пропускам в переменной airports_nearest.\n",
    "\n",
    "days_exposition - сколько дней было размещено объявление (от публикации до снятия) - 3181 пропусков (13% от выборки). Не можем определить, оставим пропуски."
   ]
  },
  {
   "cell_type": "code",
   "execution_count": 275,
   "metadata": {
    "scrolled": false
   },
   "outputs": [
    {
     "name": "stdout",
     "output_type": "stream",
     "text": [
      "<class 'pandas.core.frame.DataFrame'>\n",
      "RangeIndex: 23699 entries, 0 to 23698\n",
      "Data columns (total 22 columns):\n",
      "total_images            23699 non-null int64\n",
      "last_price              23699 non-null float64\n",
      "total_area              23699 non-null float64\n",
      "first_day_exposition    23699 non-null object\n",
      "rooms                   23699 non-null int64\n",
      "ceiling_height          14504 non-null float64\n",
      "floors_total            23613 non-null float64\n",
      "living_area             23699 non-null float64\n",
      "floor                   23699 non-null int64\n",
      "is_apartment            2775 non-null object\n",
      "studio                  23699 non-null bool\n",
      "open_plan               23699 non-null bool\n",
      "kitchen_area            23699 non-null float64\n",
      "balcony                 23699 non-null float64\n",
      "locality_name           23650 non-null object\n",
      "airports_nearest        18157 non-null float64\n",
      "cityCenters_nearest     18180 non-null float64\n",
      "parks_around3000        23699 non-null float64\n",
      "parks_nearest           8079 non-null float64\n",
      "ponds_around3000        23699 non-null float64\n",
      "ponds_nearest           9110 non-null float64\n",
      "days_exposition         20518 non-null float64\n",
      "dtypes: bool(2), float64(14), int64(3), object(3)\n",
      "memory usage: 3.7+ MB\n"
     ]
    }
   ],
   "source": [
    "data_flats.info()"
   ]
  },
  {
   "cell_type": "markdown",
   "metadata": {},
   "source": [
    "Итак, в трех переменных (число балконов, число водоемов поблизости, число парков поблизости) удалось заменить пропуски на 0. В переменных \"площадь кухни\" и \"жилая площадь\" заполнили пропуски в соответствии со ср.значениями доли этих показателей в общей площади квартиры по генеральной совокупности."
   ]
  },
  {
   "cell_type": "markdown",
   "metadata": {},
   "source": [
    "### Изменение типов данных\n",
    "\n",
    "last_price - цена на момент снятия с публикации (руб.) - точность до копеек в данном случае не нужна, приведем к типу int64.\n",
    "\n",
    "first_day_exposition - дата публикации - приведем к типу datetime.\n",
    "\n",
    "is_apartment - апартаменты (булев тип) - приведем к типу bool.\n",
    "\n",
    "balcony - число балконов - приведем к типу int64.\n",
    "\n",
    "parks_around3000 - число парков в радиусе 3 км - приведем к типу int64.\n",
    "\n",
    "ponds_around3000 - число водоёмов в радиусе 3 км - приведем к типу int64."
   ]
  },
  {
   "cell_type": "code",
   "execution_count": 276,
   "metadata": {},
   "outputs": [
    {
     "name": "stdout",
     "output_type": "stream",
     "text": [
      "<class 'pandas.core.frame.DataFrame'>\n",
      "RangeIndex: 23699 entries, 0 to 23698\n",
      "Data columns (total 22 columns):\n",
      "total_images            23699 non-null int64\n",
      "last_price              23699 non-null int64\n",
      "total_area              23699 non-null float64\n",
      "first_day_exposition    23699 non-null datetime64[ns]\n",
      "rooms                   23699 non-null int64\n",
      "ceiling_height          14504 non-null float64\n",
      "floors_total            23613 non-null float64\n",
      "living_area             23699 non-null float64\n",
      "floor                   23699 non-null int64\n",
      "is_apartment            23699 non-null bool\n",
      "studio                  23699 non-null bool\n",
      "open_plan               23699 non-null bool\n",
      "kitchen_area            23699 non-null float64\n",
      "balcony                 23699 non-null int64\n",
      "locality_name           23650 non-null object\n",
      "airports_nearest        18157 non-null float64\n",
      "cityCenters_nearest     18180 non-null float64\n",
      "parks_around3000        23699 non-null int64\n",
      "parks_nearest           8079 non-null float64\n",
      "ponds_around3000        23699 non-null int64\n",
      "ponds_nearest           9110 non-null float64\n",
      "days_exposition         20518 non-null float64\n",
      "dtypes: bool(3), datetime64[ns](1), float64(10), int64(7), object(1)\n",
      "memory usage: 3.5+ MB\n"
     ]
    }
   ],
   "source": [
    "data_flats['last_price'] = data_flats['last_price'].astype('int')\n",
    "data_flats['first_day_exposition'] = pd.to_datetime(data_flats['first_day_exposition'], format='%Y.%m.%d %H:%M:%S')\n",
    "data_flats['is_apartment'] = data_flats['is_apartment'].astype('bool')\n",
    "data_flats['balcony'] = data_flats['balcony'].astype('int')\n",
    "data_flats['parks_around3000'] = data_flats['parks_around3000'].astype('int')\n",
    "data_flats['ponds_around3000'] = data_flats['ponds_around3000'].astype('int')\n",
    "\n",
    "data_flats.info()"
   ]
  },
  {
   "cell_type": "markdown",
   "metadata": {},
   "source": [
    "### Изменение единиц измерения.\n",
    "\n",
    "last_price — цена на момент снятия с публикации в рублях - переведем в тыс.руб.\n",
    "cityCenters_nearest - расстояние до центра в метрах - переведем в км."
   ]
  },
  {
   "cell_type": "code",
   "execution_count": 278,
   "metadata": {},
   "outputs": [
    {
     "data": {
      "text/plain": [
       "0    16.0\n",
       "1    19.0\n",
       "2    14.0\n",
       "3     7.0\n",
       "4     8.0\n",
       "5     NaN\n",
       "6    19.0\n",
       "7    12.0\n",
       "8     NaN\n",
       "9    15.0\n",
       "Name: cityCenters_nearest, dtype: float64"
      ]
     },
     "execution_count": 278,
     "metadata": {},
     "output_type": "execute_result"
    }
   ],
   "source": [
    "#Цена в тыс.руб.\n",
    "data_flats['last_price']=data_flats['last_price']/1000\n",
    "data_flats.head()\n",
    "#Расстояние до центра в км\n",
    "data_flats['cityCenters_nearest']=data_flats['cityCenters_nearest']/1000\n",
    "data_flats['cityCenters_nearest']=data_flats['cityCenters_nearest'].round()\n",
    "data_flats['cityCenters_nearest'].head(10)"
   ]
  },
  {
   "cell_type": "markdown",
   "metadata": {},
   "source": [
    "### Шаг 3. Посчитайте и добавьте в таблицу"
   ]
  },
  {
   "cell_type": "code",
   "execution_count": 279,
   "metadata": {},
   "outputs": [
    {
     "name": "stderr",
     "output_type": "stream",
     "text": [
      "/opt/conda/lib/python3.7/site-packages/ipykernel_launcher.py:12: SettingWithCopyWarning: \n",
      "A value is trying to be set on a copy of a slice from a DataFrame\n",
      "\n",
      "See the caveats in the documentation: http://pandas.pydata.org/pandas-docs/stable/user_guide/indexing.html#returning-a-view-versus-a-copy\n",
      "  if sys.path[0] == '':\n",
      "/opt/conda/lib/python3.7/site-packages/ipykernel_launcher.py:13: SettingWithCopyWarning: \n",
      "A value is trying to be set on a copy of a slice from a DataFrame\n",
      "\n",
      "See the caveats in the documentation: http://pandas.pydata.org/pandas-docs/stable/user_guide/indexing.html#returning-a-view-versus-a-copy\n",
      "  del sys.path[0]\n",
      "/opt/conda/lib/python3.7/site-packages/ipykernel_launcher.py:14: SettingWithCopyWarning: \n",
      "A value is trying to be set on a copy of a slice from a DataFrame\n",
      "\n",
      "See the caveats in the documentation: http://pandas.pydata.org/pandas-docs/stable/user_guide/indexing.html#returning-a-view-versus-a-copy\n",
      "  \n"
     ]
    },
    {
     "data": {
      "text/html": [
       "<div>\n",
       "<style scoped>\n",
       "    .dataframe tbody tr th:only-of-type {\n",
       "        vertical-align: middle;\n",
       "    }\n",
       "\n",
       "    .dataframe tbody tr th {\n",
       "        vertical-align: top;\n",
       "    }\n",
       "\n",
       "    .dataframe thead th {\n",
       "        text-align: right;\n",
       "    }\n",
       "</style>\n",
       "<table border=\"1\" class=\"dataframe\">\n",
       "  <thead>\n",
       "    <tr style=\"text-align: right;\">\n",
       "      <th></th>\n",
       "      <th>total_images</th>\n",
       "      <th>last_price</th>\n",
       "      <th>total_area</th>\n",
       "      <th>first_day_exposition</th>\n",
       "      <th>rooms</th>\n",
       "      <th>ceiling_height</th>\n",
       "      <th>floors_total</th>\n",
       "      <th>living_area</th>\n",
       "      <th>floor</th>\n",
       "      <th>is_apartment</th>\n",
       "      <th>...</th>\n",
       "      <th>ponds_around3000</th>\n",
       "      <th>ponds_nearest</th>\n",
       "      <th>days_exposition</th>\n",
       "      <th>price_per_m2</th>\n",
       "      <th>weekday_ad</th>\n",
       "      <th>month_ad</th>\n",
       "      <th>year_ad</th>\n",
       "      <th>floor_group</th>\n",
       "      <th>part_living</th>\n",
       "      <th>part_kitchen</th>\n",
       "    </tr>\n",
       "  </thead>\n",
       "  <tbody>\n",
       "    <tr>\n",
       "      <td>0</td>\n",
       "      <td>20</td>\n",
       "      <td>13000.0</td>\n",
       "      <td>108.00</td>\n",
       "      <td>2019-03-07</td>\n",
       "      <td>3</td>\n",
       "      <td>2.70</td>\n",
       "      <td>16.0</td>\n",
       "      <td>51.000000</td>\n",
       "      <td>8</td>\n",
       "      <td>True</td>\n",
       "      <td>...</td>\n",
       "      <td>2</td>\n",
       "      <td>755.0</td>\n",
       "      <td>NaN</td>\n",
       "      <td>120.0</td>\n",
       "      <td>3</td>\n",
       "      <td>3</td>\n",
       "      <td>2019</td>\n",
       "      <td>другой</td>\n",
       "      <td>0.47</td>\n",
       "      <td>0.23</td>\n",
       "    </tr>\n",
       "    <tr>\n",
       "      <td>1</td>\n",
       "      <td>7</td>\n",
       "      <td>3350.0</td>\n",
       "      <td>40.40</td>\n",
       "      <td>2018-12-04</td>\n",
       "      <td>1</td>\n",
       "      <td>NaN</td>\n",
       "      <td>11.0</td>\n",
       "      <td>18.600000</td>\n",
       "      <td>1</td>\n",
       "      <td>True</td>\n",
       "      <td>...</td>\n",
       "      <td>0</td>\n",
       "      <td>NaN</td>\n",
       "      <td>81.0</td>\n",
       "      <td>83.0</td>\n",
       "      <td>1</td>\n",
       "      <td>12</td>\n",
       "      <td>2018</td>\n",
       "      <td>первый</td>\n",
       "      <td>0.46</td>\n",
       "      <td>0.27</td>\n",
       "    </tr>\n",
       "    <tr>\n",
       "      <td>2</td>\n",
       "      <td>10</td>\n",
       "      <td>5196.0</td>\n",
       "      <td>56.00</td>\n",
       "      <td>2015-08-20</td>\n",
       "      <td>2</td>\n",
       "      <td>NaN</td>\n",
       "      <td>5.0</td>\n",
       "      <td>34.300000</td>\n",
       "      <td>4</td>\n",
       "      <td>True</td>\n",
       "      <td>...</td>\n",
       "      <td>2</td>\n",
       "      <td>574.0</td>\n",
       "      <td>558.0</td>\n",
       "      <td>93.0</td>\n",
       "      <td>3</td>\n",
       "      <td>8</td>\n",
       "      <td>2015</td>\n",
       "      <td>другой</td>\n",
       "      <td>0.61</td>\n",
       "      <td>0.15</td>\n",
       "    </tr>\n",
       "    <tr>\n",
       "      <td>3</td>\n",
       "      <td>0</td>\n",
       "      <td>64900.0</td>\n",
       "      <td>159.00</td>\n",
       "      <td>2015-07-24</td>\n",
       "      <td>3</td>\n",
       "      <td>NaN</td>\n",
       "      <td>14.0</td>\n",
       "      <td>89.797718</td>\n",
       "      <td>9</td>\n",
       "      <td>True</td>\n",
       "      <td>...</td>\n",
       "      <td>3</td>\n",
       "      <td>234.0</td>\n",
       "      <td>424.0</td>\n",
       "      <td>408.0</td>\n",
       "      <td>4</td>\n",
       "      <td>7</td>\n",
       "      <td>2015</td>\n",
       "      <td>другой</td>\n",
       "      <td>0.56</td>\n",
       "      <td>0.19</td>\n",
       "    </tr>\n",
       "    <tr>\n",
       "      <td>4</td>\n",
       "      <td>2</td>\n",
       "      <td>10000.0</td>\n",
       "      <td>100.00</td>\n",
       "      <td>2018-06-19</td>\n",
       "      <td>2</td>\n",
       "      <td>3.03</td>\n",
       "      <td>14.0</td>\n",
       "      <td>32.000000</td>\n",
       "      <td>13</td>\n",
       "      <td>True</td>\n",
       "      <td>...</td>\n",
       "      <td>1</td>\n",
       "      <td>48.0</td>\n",
       "      <td>121.0</td>\n",
       "      <td>100.0</td>\n",
       "      <td>1</td>\n",
       "      <td>6</td>\n",
       "      <td>2018</td>\n",
       "      <td>другой</td>\n",
       "      <td>0.32</td>\n",
       "      <td>0.41</td>\n",
       "    </tr>\n",
       "    <tr>\n",
       "      <td>5</td>\n",
       "      <td>10</td>\n",
       "      <td>2890.0</td>\n",
       "      <td>30.40</td>\n",
       "      <td>2018-09-10</td>\n",
       "      <td>1</td>\n",
       "      <td>NaN</td>\n",
       "      <td>12.0</td>\n",
       "      <td>14.400000</td>\n",
       "      <td>5</td>\n",
       "      <td>True</td>\n",
       "      <td>...</td>\n",
       "      <td>0</td>\n",
       "      <td>NaN</td>\n",
       "      <td>55.0</td>\n",
       "      <td>95.0</td>\n",
       "      <td>0</td>\n",
       "      <td>9</td>\n",
       "      <td>2018</td>\n",
       "      <td>другой</td>\n",
       "      <td>0.47</td>\n",
       "      <td>0.30</td>\n",
       "    </tr>\n",
       "    <tr>\n",
       "      <td>6</td>\n",
       "      <td>6</td>\n",
       "      <td>3700.0</td>\n",
       "      <td>37.30</td>\n",
       "      <td>2017-11-02</td>\n",
       "      <td>1</td>\n",
       "      <td>NaN</td>\n",
       "      <td>26.0</td>\n",
       "      <td>10.600000</td>\n",
       "      <td>6</td>\n",
       "      <td>True</td>\n",
       "      <td>...</td>\n",
       "      <td>0</td>\n",
       "      <td>NaN</td>\n",
       "      <td>155.0</td>\n",
       "      <td>99.0</td>\n",
       "      <td>3</td>\n",
       "      <td>11</td>\n",
       "      <td>2017</td>\n",
       "      <td>другой</td>\n",
       "      <td>0.28</td>\n",
       "      <td>0.39</td>\n",
       "    </tr>\n",
       "    <tr>\n",
       "      <td>7</td>\n",
       "      <td>5</td>\n",
       "      <td>7915.0</td>\n",
       "      <td>71.60</td>\n",
       "      <td>2019-04-18</td>\n",
       "      <td>2</td>\n",
       "      <td>NaN</td>\n",
       "      <td>24.0</td>\n",
       "      <td>40.437211</td>\n",
       "      <td>22</td>\n",
       "      <td>True</td>\n",
       "      <td>...</td>\n",
       "      <td>0</td>\n",
       "      <td>NaN</td>\n",
       "      <td>NaN</td>\n",
       "      <td>111.0</td>\n",
       "      <td>3</td>\n",
       "      <td>4</td>\n",
       "      <td>2019</td>\n",
       "      <td>другой</td>\n",
       "      <td>0.56</td>\n",
       "      <td>0.26</td>\n",
       "    </tr>\n",
       "    <tr>\n",
       "      <td>8</td>\n",
       "      <td>20</td>\n",
       "      <td>2900.0</td>\n",
       "      <td>33.16</td>\n",
       "      <td>2018-05-23</td>\n",
       "      <td>1</td>\n",
       "      <td>NaN</td>\n",
       "      <td>27.0</td>\n",
       "      <td>15.430000</td>\n",
       "      <td>26</td>\n",
       "      <td>True</td>\n",
       "      <td>...</td>\n",
       "      <td>0</td>\n",
       "      <td>NaN</td>\n",
       "      <td>189.0</td>\n",
       "      <td>87.0</td>\n",
       "      <td>2</td>\n",
       "      <td>5</td>\n",
       "      <td>2018</td>\n",
       "      <td>другой</td>\n",
       "      <td>0.47</td>\n",
       "      <td>0.27</td>\n",
       "    </tr>\n",
       "    <tr>\n",
       "      <td>9</td>\n",
       "      <td>18</td>\n",
       "      <td>5400.0</td>\n",
       "      <td>61.00</td>\n",
       "      <td>2017-02-26</td>\n",
       "      <td>3</td>\n",
       "      <td>2.50</td>\n",
       "      <td>9.0</td>\n",
       "      <td>43.600000</td>\n",
       "      <td>7</td>\n",
       "      <td>True</td>\n",
       "      <td>...</td>\n",
       "      <td>0</td>\n",
       "      <td>NaN</td>\n",
       "      <td>289.0</td>\n",
       "      <td>89.0</td>\n",
       "      <td>6</td>\n",
       "      <td>2</td>\n",
       "      <td>2017</td>\n",
       "      <td>другой</td>\n",
       "      <td>0.71</td>\n",
       "      <td>0.11</td>\n",
       "    </tr>\n",
       "  </tbody>\n",
       "</table>\n",
       "<p>10 rows × 29 columns</p>\n",
       "</div>"
      ],
      "text/plain": [
       "   total_images  last_price  total_area first_day_exposition  rooms  \\\n",
       "0            20     13000.0      108.00           2019-03-07      3   \n",
       "1             7      3350.0       40.40           2018-12-04      1   \n",
       "2            10      5196.0       56.00           2015-08-20      2   \n",
       "3             0     64900.0      159.00           2015-07-24      3   \n",
       "4             2     10000.0      100.00           2018-06-19      2   \n",
       "5            10      2890.0       30.40           2018-09-10      1   \n",
       "6             6      3700.0       37.30           2017-11-02      1   \n",
       "7             5      7915.0       71.60           2019-04-18      2   \n",
       "8            20      2900.0       33.16           2018-05-23      1   \n",
       "9            18      5400.0       61.00           2017-02-26      3   \n",
       "\n",
       "   ceiling_height  floors_total  living_area  floor  is_apartment  ...  \\\n",
       "0            2.70          16.0    51.000000      8          True  ...   \n",
       "1             NaN          11.0    18.600000      1          True  ...   \n",
       "2             NaN           5.0    34.300000      4          True  ...   \n",
       "3             NaN          14.0    89.797718      9          True  ...   \n",
       "4            3.03          14.0    32.000000     13          True  ...   \n",
       "5             NaN          12.0    14.400000      5          True  ...   \n",
       "6             NaN          26.0    10.600000      6          True  ...   \n",
       "7             NaN          24.0    40.437211     22          True  ...   \n",
       "8             NaN          27.0    15.430000     26          True  ...   \n",
       "9            2.50           9.0    43.600000      7          True  ...   \n",
       "\n",
       "   ponds_around3000  ponds_nearest  days_exposition  price_per_m2 weekday_ad  \\\n",
       "0                 2          755.0              NaN         120.0          3   \n",
       "1                 0            NaN             81.0          83.0          1   \n",
       "2                 2          574.0            558.0          93.0          3   \n",
       "3                 3          234.0            424.0         408.0          4   \n",
       "4                 1           48.0            121.0         100.0          1   \n",
       "5                 0            NaN             55.0          95.0          0   \n",
       "6                 0            NaN            155.0          99.0          3   \n",
       "7                 0            NaN              NaN         111.0          3   \n",
       "8                 0            NaN            189.0          87.0          2   \n",
       "9                 0            NaN            289.0          89.0          6   \n",
       "\n",
       "   month_ad  year_ad  floor_group  part_living  part_kitchen  \n",
       "0         3     2019       другой         0.47          0.23  \n",
       "1        12     2018       первый         0.46          0.27  \n",
       "2         8     2015       другой         0.61          0.15  \n",
       "3         7     2015       другой         0.56          0.19  \n",
       "4         6     2018       другой         0.32          0.41  \n",
       "5         9     2018       другой         0.47          0.30  \n",
       "6        11     2017       другой         0.28          0.39  \n",
       "7         4     2019       другой         0.56          0.26  \n",
       "8         5     2018       другой         0.47          0.27  \n",
       "9         2     2017       другой         0.71          0.11  \n",
       "\n",
       "[10 rows x 29 columns]"
      ]
     },
     "execution_count": 279,
     "metadata": {},
     "output_type": "execute_result"
    }
   ],
   "source": [
    "#Цена за квадратный метр в тыс.руб.\n",
    "data_flats['price_per_m2']=data_flats['last_price']/data_flats['total_area']\n",
    "data_flats['price_per_m2']=round(data_flats['price_per_m2']) \n",
    "#День недели публикации объявления\n",
    "data_flats['weekday_ad']=data_flats['first_day_exposition'].dt.weekday\n",
    "#Месяц публикации объявления\n",
    "data_flats['month_ad']=data_flats['first_day_exposition'].dt.month\n",
    "#Год публикации объявления\n",
    "data_flats['year_ad']=data_flats['first_day_exposition'].dt.year\n",
    "#Этаж квартиры\n",
    "data_flats['floor_group']=data_flats['floor']\n",
    "data_flats['floor_group'][data_flats['floor_group']==1] = 'первый'\n",
    "data_flats['floor_group'][data_flats['floor_group']==data_flats['floors_total']] = 'последний' \n",
    "data_flats['floor_group'][(data_flats['floor_group'] != 'первый')&(data_flats['floor_group'] != 'последний')] = 'другой'\n",
    "#Соотношение жилой и общей площади\n",
    "data_flats['part_living']=data_flats['living_area']/data_flats['total_area']\n",
    "data_flats['part_living']=round(data_flats['part_living'], 2)\n",
    "#Отношение площади кухни к общей площади\n",
    "data_flats['part_kitchen']=data_flats['kitchen_area']/data_flats['total_area']                                              \n",
    "data_flats['part_kitchen']=round(data_flats['part_kitchen'], 2)                                              \n",
    "                                              \n",
    "data_flats.head(10)"
   ]
  },
  {
   "cell_type": "markdown",
   "metadata": {},
   "source": [
    "### Шаг 4. Проведите исследовательский анализ данных и выполните инструкции:"
   ]
  },
  {
   "cell_type": "markdown",
   "metadata": {},
   "source": [
    "### Создание функций для построения графиков"
   ]
  },
  {
   "cell_type": "code",
   "execution_count": 280,
   "metadata": {},
   "outputs": [],
   "source": [
    "#Гистограмма\n",
    "def buildHist(data, xname, title):\n",
    "    plt.figure(figsize=(10,4))\n",
    "    data.hist(bins=20)\n",
    "    plt.xlabel(xname)\n",
    "    plt.title(title)\n",
    "    plt.show()\n",
    "    \n",
    "def buildHist_detail(data, xname, title):\n",
    "    plt.figure(figsize=(10,4))\n",
    "    data.hist(bins=20, range=(data.min(), data.quantile(0.75)+3*(data.quantile(0.75)-data.quantile(0.25))))\n",
    "    plt.xlabel(xname)\n",
    "    plt.title(title)\n",
    "    plt.show()        \n",
    "\n",
    "#Диаграмма размаха\n",
    "def buildBox(data, title, column):\n",
    "    plt.figure(figsize=(4,6))\n",
    "    data.boxplot(column=column)\n",
    "    plt.title(title)\n",
    "    plt.show()\n",
    "    \n",
    "def buildBox_detail(data, title, column):\n",
    "    plt.figure(figsize=(4,6))\n",
    "    data.boxplot(column=column)\n",
    "    plt.title(title)\n",
    "    plt.ylim(0, data[column].quantile(0.75)+3*(data[column].quantile(0.75)-data[column].quantile(0.25)))\n",
    "    plt.show()\n"
   ]
  },
  {
   "cell_type": "markdown",
   "metadata": {},
   "source": [
    "### Анализ значений столбца \"площадь квартиры в кв.м\""
   ]
  },
  {
   "cell_type": "code",
   "execution_count": 281,
   "metadata": {
    "scrolled": false
   },
   "outputs": [
    {
     "data": {
      "text/plain": [
       "count    23699.000000\n",
       "mean        60.348651\n",
       "std         35.654083\n",
       "min         12.000000\n",
       "25%         40.000000\n",
       "50%         52.000000\n",
       "75%         69.900000\n",
       "max        900.000000\n",
       "Name: total_area, dtype: float64"
      ]
     },
     "execution_count": 281,
     "metadata": {},
     "output_type": "execute_result"
    }
   ],
   "source": [
    "#'total_area' - Площадь квартиры в квадратных метрах \n",
    "#Описательная статистика\n",
    "data_flats['total_area'].describe()"
   ]
  },
  {
   "cell_type": "markdown",
   "metadata": {},
   "source": [
    "Минимальное значение равно 12, максимальное - 900.\n",
    "Среднее - 60, медиана - 52 (сдвиг среднего в большую сторону от медианы, но разница относительно небольшая). Ст.отклонение - 36.\n",
    "\n",
    "Межквартильный размах около 30.  Третий квартиль находится на уровне 70, в то время как максимальное значение равно 900. Такой большой разрыв связан с выбросами (которые видны на диаграмме размаха). "
   ]
  },
  {
   "cell_type": "code",
   "execution_count": 282,
   "metadata": {},
   "outputs": [
    {
     "data": {
      "image/png": "[encoded data removed]",
      "text/plain": [
       "<Figure size 288x432 with 1 Axes>"
      ]
     },
     "metadata": {
      "needs_background": "light"
     },
     "output_type": "display_data"
    }
   ],
   "source": [
    "#Диаграмма размаха\n",
    "buildBox(data_flats, 'Диаграмма размаха площади квартир', 'total_area')"
   ]
  },
  {
   "cell_type": "code",
   "execution_count": 283,
   "metadata": {},
   "outputs": [
    {
     "data": {
      "image/png": "[encoded data removed]",
      "text/plain": [
       "<Figure size 288x432 with 1 Axes>"
      ]
     },
     "metadata": {
      "needs_background": "light"
     },
     "output_type": "display_data"
    }
   ],
   "source": [
    "#Диаграмма размаха увеличенная\n",
    "buildBox_detail(data_flats, 'Диаграмма размаха площади квартир (увеличенная)', 'total_area')"
   ]
  },
  {
   "cell_type": "markdown",
   "metadata": {},
   "source": [
    "Нижний ус на уровне 15, верхний - 115. Более высокие значения рисуются отдельными точками, но сливаются в единую жирную линию."
   ]
  },
  {
   "cell_type": "code",
   "execution_count": 284,
   "metadata": {
    "scrolled": true
   },
   "outputs": [
    {
     "data": {
      "image/png": "[encoded data removed]",
      "text/plain": [
       "<Figure size 720x288 with 1 Axes>"
      ]
     },
     "metadata": {
      "needs_background": "light"
     },
     "output_type": "display_data"
    }
   ],
   "source": [
    "#Гистограмма\n",
    "buildHist(data_flats.total_area, 'кв.м', 'Распределение площади квартир')"
   ]
  },
  {
   "cell_type": "code",
   "execution_count": 285,
   "metadata": {},
   "outputs": [
    {
     "data": {
      "image/png": "[encoded data removed]",
      "text/plain": [
       "<Figure size 720x288 with 1 Axes>"
      ]
     },
     "metadata": {
      "needs_background": "light"
     },
     "output_type": "display_data"
    }
   ],
   "source": [
    "#Гистограмма увеличенная\n",
    "buildHist_detail(data_flats.total_area, 'кв.м', 'Распределение площади квартир (увеличенное)')"
   ]
  },
  {
   "cell_type": "markdown",
   "metadata": {},
   "source": [
    "На гистограмме наблюдается пик на отрезке 30 - 45, далее плавное снижение и длинный хвост на больших значениях."
   ]
  },
  {
   "cell_type": "markdown",
   "metadata": {},
   "source": [
    "Проверим количество выбросов (более 115 кв.м) - 5% выборки (достаточно много).\n",
    "С точки зрения правдоподобности данных, значения 115 кв.м являются вполне реальными для Санкт-Петербурга. По моему мнению, не стоит обрезать эти данные и терять 5% выборки. "
   ]
  },
  {
   "cell_type": "code",
   "execution_count": 286,
   "metadata": {},
   "outputs": [
    {
     "name": "stdout",
     "output_type": "stream",
     "text": [
      "Наблюдений, где площадь более 115 кв.м -  1217\n",
      "Доля выборки 5%\n"
     ]
    },
    {
     "data": {
      "image/png": "[encoded data removed]",
      "text/plain": [
       "<Figure size 432x288 with 1 Axes>"
      ]
     },
     "metadata": {
      "needs_background": "light"
     },
     "output_type": "display_data"
    }
   ],
   "source": [
    "#Количество наблюдений, где ['total_area']>115\n",
    "print(\"Наблюдений, где площадь более 115 кв.м - \", len(data_flats[data_flats['total_area']>115]))\n",
    "#Доля выборки, где ['total_area']>115\n",
    "print('Доля выборки {:.0%}'.format(len(data_flats[data_flats['total_area']>115])/len(data_flats)))\n",
    "\n",
    "#Гистограмма увеличенная\n",
    "data_flats.hist('total_area', bins=20, range=(100,400))\n",
    "plt.title('Распределение площади квартир (увеличенное)')\n",
    "plt.show()"
   ]
  },
  {
   "cell_type": "markdown",
   "metadata": {},
   "source": [
    "Сильное снижение наблюдений после отметки 250 кв.м. Проверим сколько таких значений. "
   ]
  },
  {
   "cell_type": "code",
   "execution_count": 287,
   "metadata": {
    "scrolled": true
   },
   "outputs": [
    {
     "name": "stdout",
     "output_type": "stream",
     "text": [
      "Наблюдений, где площадь более 250 кв.м -  112\n",
      "Доля выборки 0%\n"
     ]
    }
   ],
   "source": [
    "#Количество наблюдений, где ['total_area']>250\n",
    "print(\"Наблюдений, где площадь более 250 кв.м - \", len(data_flats[data_flats['total_area']>250]))\n",
    "#Доля выборки, где ['total_area']>250\n",
    "print('Доля выборки {:.0%}'.format(len(data_flats[data_flats['total_area']>250])/len(data_flats)))"
   ]
  },
  {
   "cell_type": "markdown",
   "metadata": {},
   "source": [
    "Уберем 112 наблюдений из хвоста, чтоб они не искажали результаты при будущем анализе. Проверим как изменились среднее и медиана."
   ]
  },
  {
   "cell_type": "code",
   "execution_count": 288,
   "metadata": {
    "scrolled": true
   },
   "outputs": [
    {
     "data": {
      "text/plain": [
       "count    23587.000000\n",
       "mean        58.988055\n",
       "std         28.894634\n",
       "min         12.000000\n",
       "25%         40.000000\n",
       "50%         52.000000\n",
       "75%         69.100000\n",
       "max        250.000000\n",
       "Name: total_area, dtype: float64"
      ]
     },
     "execution_count": 288,
     "metadata": {},
     "output_type": "execute_result"
    }
   ],
   "source": [
    "#Удаление наблюдений, где ['total_area']>250\n",
    "data_flats=data_flats[data_flats['total_area']<=250]\n",
    "#Описательная статистика\n",
    "data_flats['total_area'].describe()"
   ]
  },
  {
   "cell_type": "code",
   "execution_count": 289,
   "metadata": {},
   "outputs": [
    {
     "data": {
      "image/png": "[encoded data removed]",
      "text/plain": [
       "<Figure size 720x288 with 1 Axes>"
      ]
     },
     "metadata": {
      "needs_background": "light"
     },
     "output_type": "display_data"
    }
   ],
   "source": [
    "#Гистограмма\n",
    "buildHist(data_flats.total_area, 'кв.м', 'Распределение площади квартир')"
   ]
  },
  {
   "cell_type": "markdown",
   "metadata": {},
   "source": [
    "Вывод (площадь квартиры в квадратных метрах).\n",
    "\n",
    "Среднее значение сдвинулось ближе к медиане, но не сильно. Теперь значения площали квартир от 12 до 250 кв.м. Вполне похоже на реальные данные. "
   ]
  },
  {
   "cell_type": "markdown",
   "metadata": {},
   "source": [
    "###  Анализ значений столбца \"цена на момент снятия с публикации, тыс.руб.\""
   ]
  },
  {
   "cell_type": "code",
   "execution_count": 290,
   "metadata": {
    "scrolled": true
   },
   "outputs": [
    {
     "data": {
      "text/plain": [
       "count     23587.000000\n",
       "mean       6193.135019\n",
       "std        7055.975463\n",
       "min          12.190000\n",
       "25%        3400.000000\n",
       "50%        4600.000000\n",
       "75%        6700.000000\n",
       "max      330000.000000\n",
       "Name: last_price, dtype: float64"
      ]
     },
     "execution_count": 290,
     "metadata": {},
     "output_type": "execute_result"
    }
   ],
   "source": [
    "#last_price — цена на момент снятия с публикации, тыс.руб.\n",
    "#Описательная статистика\n",
    "data_flats['last_price'].describe()"
   ]
  },
  {
   "cell_type": "markdown",
   "metadata": {},
   "source": [
    "Минимальное значение равно 12 (похоже на выброс), максимальное - 330000 (похоже на выброс). Среднее - 6193, медиана - 4600 (Сдвиг среднего в большую сторону из-за больших значений в хвосте). Ст.отклонение - 7056.\n",
    "\n",
    "Межквартильный размах около 3300. Третий квартиль находится на уровне 6700, в то время как максимальное значение равно 330000. Такой большой разрыв связан с выбросами (которые видны на диаграмме размаха)."
   ]
  },
  {
   "cell_type": "code",
   "execution_count": 291,
   "metadata": {},
   "outputs": [
    {
     "data": {
      "image/png": "[encoded data removed]",
      "text/plain": [
       "<Figure size 288x432 with 1 Axes>"
      ]
     },
     "metadata": {
      "needs_background": "light"
     },
     "output_type": "display_data"
    }
   ],
   "source": [
    "#Диаграмма размаха\n",
    "buildBox(data_flats, 'Диаграмма размаха стоимости квартир', 'last_price')"
   ]
  },
  {
   "cell_type": "code",
   "execution_count": 292,
   "metadata": {},
   "outputs": [
    {
     "data": {
      "image/png": "[encoded data removed]",
      "text/plain": [
       "<Figure size 288x432 with 1 Axes>"
      ]
     },
     "metadata": {
      "needs_background": "light"
     },
     "output_type": "display_data"
    }
   ],
   "source": [
    "#Диаграмма размаха увеличенная\n",
    "buildBox_detail(data_flats, 'Диаграмма размаха стоимости квартир (увеличенная)', 'last_price')"
   ]
  },
  {
   "cell_type": "markdown",
   "metadata": {},
   "source": [
    "Нижний ус близок к нулю, верхний на уровне 12000. Более высокие значения рисуются отдельными точками, но сливаются в единую жирную линию: таких выбросов у нас много."
   ]
  },
  {
   "cell_type": "code",
   "execution_count": 293,
   "metadata": {},
   "outputs": [
    {
     "data": {
      "image/png": "[encoded data removed]",
      "text/plain": [
       "<Figure size 720x288 with 1 Axes>"
      ]
     },
     "metadata": {
      "needs_background": "light"
     },
     "output_type": "display_data"
    }
   ],
   "source": [
    "#Гистограмма\n",
    "buildHist(data_flats.last_price, 'тыс.руб.', 'Распределение стоимости квартир')"
   ]
  },
  {
   "cell_type": "code",
   "execution_count": 294,
   "metadata": {},
   "outputs": [
    {
     "data": {
      "image/png": "[encoded data removed]",
      "text/plain": [
       "<Figure size 720x288 with 1 Axes>"
      ]
     },
     "metadata": {
      "needs_background": "light"
     },
     "output_type": "display_data"
    }
   ],
   "source": [
    "#Гистограмма увеличенная\n",
    "buildHist_detail(data_flats.last_price, 'тыс.руб.', 'Распределение стоимости квартир (увеличенное)')"
   ]
  },
  {
   "cell_type": "markdown",
   "metadata": {},
   "source": [
    "На гистограмме наблюдается пик на отрезке 3000 - 5000, далее плавное снижение и длинный хвост на больших значениях."
   ]
  },
  {
   "cell_type": "markdown",
   "metadata": {},
   "source": [
    "Проверим редкие значения и попробуем улучшить качество выборки. "
   ]
  },
  {
   "cell_type": "code",
   "execution_count": 295,
   "metadata": {},
   "outputs": [
    {
     "data": {
      "image/png": "[encoded data removed]",
      "text/plain": [
       "<Figure size 432x288 with 1 Axes>"
      ]
     },
     "metadata": {
      "needs_background": "light"
     },
     "output_type": "display_data"
    }
   ],
   "source": [
    "#Гистограмма увеличенная\n",
    "data_flats.hist('last_price', range=(0, 1000), bins=20)\n",
    "plt.title('Распределение стоимости квартир (увеличенное)')\n",
    "plt.show()"
   ]
  },
  {
   "cell_type": "markdown",
   "metadata": {},
   "source": [
    "На гистограмме видно, что есть выброс на отрезке до 200 тыс.руб. Проверим какую долю он составляет от выборки."
   ]
  },
  {
   "cell_type": "code",
   "execution_count": 296,
   "metadata": {},
   "outputs": [
    {
     "name": "stdout",
     "output_type": "stream",
     "text": [
      "Наблюдений, где стоимость менее 200 тыс.руб. -  1\n"
     ]
    }
   ],
   "source": [
    "#Количество наблюдений, где ['last_price']<200\n",
    "print(\"Наблюдений, где стоимость менее 200 тыс.руб. - \", len(data_flats[data_flats['last_price']<200]))"
   ]
  },
  {
   "cell_type": "markdown",
   "metadata": {},
   "source": [
    "Однозначно, это выброс, удалим его."
   ]
  },
  {
   "cell_type": "code",
   "execution_count": 297,
   "metadata": {},
   "outputs": [
    {
     "data": {
      "image/png": "[encoded data removed]",
      "text/plain": [
       "<Figure size 432x288 with 1 Axes>"
      ]
     },
     "metadata": {
      "needs_background": "light"
     },
     "output_type": "display_data"
    }
   ],
   "source": [
    "data_flats=data_flats[data_flats['last_price']>200]\n",
    "#Гистограмма увеличенная\n",
    "data_flats.hist('last_price', range=(5000, 40000), bins=20)\n",
    "plt.title('Распределение стоимости квартир (увеличенное)')\n",
    "plt.show()"
   ]
  },
  {
   "cell_type": "markdown",
   "metadata": {},
   "source": [
    "На гистограмме видно, что самые редкие значения расположены примерно после 30 млн, проверим какую часть от выборки они составляют."
   ]
  },
  {
   "cell_type": "code",
   "execution_count": 298,
   "metadata": {},
   "outputs": [
    {
     "name": "stdout",
     "output_type": "stream",
     "text": [
      "Наблюдений, где стоимость более 30 млн.руб. -  235\n",
      "Доля выборки 1%\n"
     ]
    },
    {
     "data": {
      "text/plain": [
       "count    23351.000000\n",
       "mean      5718.718921\n",
       "std       3982.691701\n",
       "min        430.000000\n",
       "25%       3400.000000\n",
       "50%       4600.000000\n",
       "75%       6622.500000\n",
       "max      30000.000000\n",
       "Name: last_price, dtype: float64"
      ]
     },
     "execution_count": 298,
     "metadata": {},
     "output_type": "execute_result"
    }
   ],
   "source": [
    "#Количество наблюдений, где ['last_price']>30 млн\n",
    "print(\"Наблюдений, где стоимость более 30 млн.руб. - \", len(data_flats[data_flats['last_price']>30000]))\n",
    "#Доля выборки, где ['last_price']>30 млн\n",
    "print('Доля выборки {:.0%}'.format(len(data_flats[data_flats['last_price']>30000])/len(data_flats)))\n",
    "data_flats=data_flats[data_flats['last_price']<=30000]\n",
    "\n",
    "#Описательная статистика\n",
    "data_flats['last_price'].describe()"
   ]
  },
  {
   "cell_type": "markdown",
   "metadata": {},
   "source": [
    "Удалили 235 крайних значения правого хвоста. Теперь стоимость квартир от 430 тыс.руб. до 30 млн. руб."
   ]
  },
  {
   "cell_type": "markdown",
   "metadata": {},
   "source": [
    "### Анализ значений столбца \"число комнат\""
   ]
  },
  {
   "cell_type": "code",
   "execution_count": 299,
   "metadata": {},
   "outputs": [
    {
     "data": {
      "text/plain": [
       "count    23351.000000\n",
       "mean         2.034474\n",
       "std          1.011566\n",
       "min          0.000000\n",
       "25%          1.000000\n",
       "50%          2.000000\n",
       "75%          3.000000\n",
       "max         14.000000\n",
       "Name: rooms, dtype: float64"
      ]
     },
     "execution_count": 299,
     "metadata": {},
     "output_type": "execute_result"
    }
   ],
   "source": [
    "#rooms - число комнат\n",
    "#Описательная статистика\n",
    "data_flats['rooms'].describe()"
   ]
  },
  {
   "cell_type": "markdown",
   "metadata": {},
   "source": [
    "Минимальное значение равно 0(нужно проверить что это), максимальное - 14. Среднее - 2, медиана - 2 (совпадают - это хорошо). Ст.отклонение - 1.\n",
    "\n",
    "Межквартильный размах 2. Третий квартиль находится на уровне 3, в то время как максимальное значение равно 14. Такой большой разрыв связан с редкими большими значениями (нужно их проверить)."
   ]
  },
  {
   "cell_type": "code",
   "execution_count": 300,
   "metadata": {},
   "outputs": [
    {
     "data": {
      "image/png": "[encoded data removed]",
      "text/plain": [
       "<Figure size 288x432 with 1 Axes>"
      ]
     },
     "metadata": {
      "needs_background": "light"
     },
     "output_type": "display_data"
    }
   ],
   "source": [
    "#Диаграмма размаха\n",
    "buildBox(data_flats, 'Диаграмма размаха количества комнат', 'rooms')"
   ]
  },
  {
   "cell_type": "markdown",
   "metadata": {},
   "source": [
    "Нижний ус на уровне 0, верхний около 6. Более высокие значения рисуются отдельными точками, чем больше комнат, тем меньше значений. "
   ]
  },
  {
   "cell_type": "code",
   "execution_count": 301,
   "metadata": {},
   "outputs": [
    {
     "data": {
      "image/png": "[encoded data removed]",
      "text/plain": [
       "<Figure size 720x288 with 1 Axes>"
      ]
     },
     "metadata": {
      "needs_background": "light"
     },
     "output_type": "display_data"
    }
   ],
   "source": [
    "#Гистограмма \n",
    "buildHist_detail(data_flats.rooms, 'кол-во комнат', 'Распределение количества комнат')\n",
    "plt.show()"
   ]
  },
  {
   "cell_type": "markdown",
   "metadata": {},
   "source": [
    "Чаще всего встречаются однокомнатные и двухкомнатные квартиры (около 70% выборки). Трехкомнатные встречаются реже, но тоже занимают значительную часть выборки (около 23%). Четырехкомнатные - около 5% выборки, пятикомнатные около 1,5 %. Оставшуюся часть составляют более многокомнатные и нули."
   ]
  },
  {
   "cell_type": "markdown",
   "metadata": {},
   "source": [
    "Проверим редкие данные. Посчитаем долю выборки, где число комнат более 6."
   ]
  },
  {
   "cell_type": "code",
   "execution_count": 302,
   "metadata": {},
   "outputs": [
    {
     "name": "stdout",
     "output_type": "stream",
     "text": [
      "Наблюдений, где кол-во комнат более 6 -  46\n",
      "Доля выборки 0%\n"
     ]
    }
   ],
   "source": [
    "#Количество наблюдений, где ['rooms']>6\n",
    "print(\"Наблюдений, где кол-во комнат более 6 - \", len(data_flats[data_flats['rooms']>6]))\n",
    "#Доля выборки, где ['rooms']>6\n",
    "print('Доля выборки {:.0%}'.format(len(data_flats[data_flats['rooms']>6])/len(data_flats)))\n",
    "data_flats=data_flats[data_flats['rooms']<=6]"
   ]
  },
  {
   "cell_type": "markdown",
   "metadata": {},
   "source": [
    "Это и вправду выбросы, их всего 46 шт. Однозначно удаляем. "
   ]
  },
  {
   "cell_type": "markdown",
   "metadata": {},
   "source": [
    "Теперь число комнат от 0 до 6. 0 комнат - это квартиры-студии."
   ]
  },
  {
   "cell_type": "markdown",
   "metadata": {},
   "source": [
    "### Анализ значений столбца \"Высота потолков, м\""
   ]
  },
  {
   "cell_type": "code",
   "execution_count": 303,
   "metadata": {},
   "outputs": [
    {
     "data": {
      "text/plain": [
       "count    14243.000000\n",
       "mean         2.761521\n",
       "std          1.268598\n",
       "min          1.000000\n",
       "25%          2.500000\n",
       "50%          2.650000\n",
       "75%          2.800000\n",
       "max        100.000000\n",
       "Name: ceiling_height, dtype: float64"
      ]
     },
     "execution_count": 303,
     "metadata": {},
     "output_type": "execute_result"
    }
   ],
   "source": [
    "#ceiling_height - Высота потолков, м\n",
    "#Описательная статистика\n",
    "data_flats['ceiling_height'].describe()"
   ]
  },
  {
   "cell_type": "markdown",
   "metadata": {},
   "source": [
    "Минимальное значение равно 1 (похоже на некорректное значение), максимальное - 100 (похоже на некорректное значение). Среднее - 2.8, медиана - 2.7 (Отличие медианы от среднего небольшое). Ст.отклонение - 1.3.\n",
    "\n",
    "Межквартильный размах около 0.3. Третий квартиль находится на уровне 2.8, в то время как максимальное значение равно 100. Такой большой разрыв связан с выбросами(которые видны на диаграмме размаха)."
   ]
  },
  {
   "cell_type": "code",
   "execution_count": 304,
   "metadata": {},
   "outputs": [
    {
     "data": {
      "image/png": "[encoded data removed]",
      "text/plain": [
       "<Figure size 288x432 with 1 Axes>"
      ]
     },
     "metadata": {
      "needs_background": "light"
     },
     "output_type": "display_data"
    }
   ],
   "source": [
    "#Диаграмма размаха\n",
    "buildBox(data_flats, 'Диаграмма размаха высоты потолков', 'ceiling_height')"
   ]
  },
  {
   "cell_type": "markdown",
   "metadata": {},
   "source": [
    "Нижний ус на уровне 2.25, верхний около 3.2. Более низкие значения рисуются отдельными точками, похоже, что их немного. А более высоких много, они сливаются в единую линию, по мере увеличения высоты их количество уменьшается. "
   ]
  },
  {
   "cell_type": "code",
   "execution_count": 305,
   "metadata": {},
   "outputs": [
    {
     "data": {
      "image/png": "[encoded data removed]",
      "text/plain": [
       "<Figure size 720x288 with 1 Axes>"
      ]
     },
     "metadata": {
      "needs_background": "light"
     },
     "output_type": "display_data"
    }
   ],
   "source": [
    "#Гистограмма увеличенная\n",
    "buildHist_detail(data_flats.ceiling_height, 'м', 'Распределение высоты потолков (увеличенное)')"
   ]
  },
  {
   "cell_type": "markdown",
   "metadata": {},
   "source": [
    "Высота 2.5 м встречается чаще всего."
   ]
  },
  {
   "cell_type": "markdown",
   "metadata": {},
   "source": [
    "Проверим редкие значения и избавимся от некорректных."
   ]
  },
  {
   "cell_type": "code",
   "execution_count": 306,
   "metadata": {},
   "outputs": [
    {
     "name": "stdout",
     "output_type": "stream",
     "text": [
      "Наблюдений, где высота потолков менее 2.2 м -  15\n",
      "Доля выборки 0%\n"
     ]
    }
   ],
   "source": [
    "#Количество наблюдений, где ['ceiling_height']<=2.2\n",
    "print(\"Наблюдений, где высота потолков менее 2.2 м - \", len(data_flats[data_flats['ceiling_height']<=2.2]))\n",
    "#Доля выборки, где ['ceiling_height']<=2.2\n",
    "print('Доля выборки {:.0%}'.format(len(data_flats[data_flats['ceiling_height']<=2.2])/len(data_flats)))\n",
    "data_flats=data_flats[(data_flats['ceiling_height'].isnull())|(data_flats['ceiling_height']>2.2)]\n"
   ]
  },
  {
   "cell_type": "markdown",
   "metadata": {},
   "source": [
    "Наблюдений, где высота потолков не выше 2.2 м, всего 15. Такие показатели не похожи на высоту потолков в доме или квартире. Удалим их. Теперь рассмотрим слишком большие значения. "
   ]
  },
  {
   "cell_type": "code",
   "execution_count": 307,
   "metadata": {
    "scrolled": true
   },
   "outputs": [
    {
     "name": "stdout",
     "output_type": "stream",
     "text": [
      "Наблюдений, где высота потолков менее 2.2 м -  698\n",
      "Доля выборки 3%\n"
     ]
    }
   ],
   "source": [
    "#Количество наблюдений, где ['ceiling_height']>3.2\n",
    "print(\"Наблюдений, где высота потолков менее 2.2 м - \", len(data_flats[data_flats['ceiling_height']>3.2]))\n",
    "#Доля выборки, где ['ceiling_height']>3.2\n",
    "print('Доля выборки {:.0%}'.format(len(data_flats[data_flats['ceiling_height']>3.2])/len(data_flats)))\n"
   ]
  },
  {
   "cell_type": "markdown",
   "metadata": {},
   "source": [
    "Значений более 3.2 метра достаточно много - 3% выборки. И в реальности высота потолков в доме вполне может достигать 4 с лишним метров. Ограничимся этим значением, и проверим количество строк, где высота потолков более 4 м."
   ]
  },
  {
   "cell_type": "code",
   "execution_count": 308,
   "metadata": {},
   "outputs": [
    {
     "name": "stdout",
     "output_type": "stream",
     "text": [
      "Наблюдений, где высота потолков менее 4 м -  60\n",
      "Доля выборки 0%\n"
     ]
    }
   ],
   "source": [
    "#Количество наблюдений, где ['ceiling_height']>4\n",
    "print(\"Наблюдений, где высота потолков менее 4 м - \", len(data_flats[data_flats['ceiling_height']>4]))\n",
    "#Доля выборки, где ['ceiling_height']>4\n",
    "print('Доля выборки {:.0%}'.format(len(data_flats[data_flats['ceiling_height']>4])/len(data_flats)))\n",
    "data_flats=data_flats[(data_flats['ceiling_height'].isnull())|(data_flats['ceiling_height']<=4)]"
   ]
  },
  {
   "cell_type": "markdown",
   "metadata": {},
   "source": [
    "Удалим 60 наблюдений, где высота потолков более 4 м. Итак, в нашей отфильтрованной выборке высота потолков от 2.2 до 4 м."
   ]
  },
  {
   "cell_type": "markdown",
   "metadata": {},
   "source": [
    "### Анализ значений столбца \"сколько дней было размещено объявление\""
   ]
  },
  {
   "cell_type": "code",
   "execution_count": 309,
   "metadata": {
    "scrolled": true
   },
   "outputs": [
    {
     "data": {
      "text/plain": [
       "count    20165.000000\n",
       "mean       179.248946\n",
       "std        217.933055\n",
       "min          1.000000\n",
       "25%         45.000000\n",
       "50%         95.000000\n",
       "75%        229.000000\n",
       "max       1580.000000\n",
       "Name: days_exposition, dtype: float64"
      ]
     },
     "execution_count": 309,
     "metadata": {},
     "output_type": "execute_result"
    }
   ],
   "source": [
    "#days_exposition — сколько дней было размещено объявление (от публикации до снятия)\n",
    "\n",
    "#Описательная статистика\n",
    "data_flats['days_exposition'].describe()"
   ]
  },
  {
   "cell_type": "markdown",
   "metadata": {},
   "source": [
    "Минимальное значение равно 1, максимальное - 1580. Среднее значение 180, медиана 95 (Сильный сдвиг среднего в большую сторону от медианы, почти в два раза). Ст.отклонение - 218.\n",
    "\n",
    "Межквартильный размах около 185. Третий квартиль находится на уровне 230, в то время как максимальное значение равно 1580. Такой большой разрыв связан с выбросами(которые видны на диаграмме размаха)."
   ]
  },
  {
   "cell_type": "code",
   "execution_count": 310,
   "metadata": {
    "scrolled": true
   },
   "outputs": [
    {
     "data": {
      "image/png": "[encoded data removed]",
      "text/plain": [
       "<Figure size 288x432 with 1 Axes>"
      ]
     },
     "metadata": {
      "needs_background": "light"
     },
     "output_type": "display_data"
    }
   ],
   "source": [
    "#Диаграмма размаха\n",
    "buildBox(data_flats, 'Диаграмма размаха высоты потолков', 'days_exposition')"
   ]
  },
  {
   "cell_type": "markdown",
   "metadata": {},
   "source": [
    "Нижний ус на уровне 0, верхний около 500. Более высокие значения обозначены точками, которые сливаются в единую линию."
   ]
  },
  {
   "cell_type": "code",
   "execution_count": 311,
   "metadata": {},
   "outputs": [
    {
     "data": {
      "image/png": "[encoded data removed]",
      "text/plain": [
       "<Figure size 720x288 with 1 Axes>"
      ]
     },
     "metadata": {
      "needs_background": "light"
     },
     "output_type": "display_data"
    },
    {
     "data": {
      "image/png": "[encoded data removed]",
      "text/plain": [
       "<Figure size 720x288 with 1 Axes>"
      ]
     },
     "metadata": {
      "needs_background": "light"
     },
     "output_type": "display_data"
    }
   ],
   "source": [
    "#Гистограмма\n",
    "buildHist(data_flats.days_exposition, 'кол-во дней', 'Распределение длительности размещения объявления на сайте')\n",
    "#Гистограмма увеличенная\n",
    "buildHist_detail(data_flats.days_exposition, 'кол-во дней', 'Распределение длительности размещения объявления на сайте (увеличенное)')"
   ]
  },
  {
   "cell_type": "markdown",
   "metadata": {},
   "source": [
    "На гистограмме распределение похоже на Пуассоновское. Самые часто встречающиеся значения расположены на отрезке от 0 до 60 дней. Затем плавный спад, длинный хвост на больших значениях."
   ]
  },
  {
   "cell_type": "markdown",
   "metadata": {},
   "source": [
    "Вывод (сколько дней было размещено объявление).\n",
    "В среднем продажа квартиры занимает от 45 до 232 дней. Если продажа заняла менее 45 дней, можно отнести ее в категорию быстрых. От 232 до 500 дней отнесем в категорию затянувшихся продаж. Продажи более 500 дней скорее относятся к выбросам, чем к нормальным значениям. \n",
    "\n",
    "Проверим количество значений превышающих 500 дней."
   ]
  },
  {
   "cell_type": "code",
   "execution_count": 312,
   "metadata": {},
   "outputs": [
    {
     "name": "stdout",
     "output_type": "stream",
     "text": [
      "Наблюдений, где высота потолков менее 2.2 м -  1685\n",
      "Доля выборки 7%\n"
     ]
    }
   ],
   "source": [
    "#Количество наблюдений, где ['days_exposition']>500\n",
    "print(\"Наблюдений, где высота потолков менее 2.2 м - \", len(data_flats[data_flats['days_exposition']>500]))\n",
    "#Доля выборки, где ['days_exposition']>3.2\n",
    "print('Доля выборки {:.0%}'.format(len(data_flats[data_flats['days_exposition']>500])/len(data_flats)))"
   ]
  },
  {
   "cell_type": "markdown",
   "metadata": {},
   "source": [
    "7% выборки это много. Посмотрим их распределение на гистограмме."
   ]
  },
  {
   "cell_type": "code",
   "execution_count": 313,
   "metadata": {},
   "outputs": [
    {
     "data": {
      "image/png": "[encoded data removed]",
      "text/plain": [
       "<Figure size 432x288 with 1 Axes>"
      ]
     },
     "metadata": {
      "needs_background": "light"
     },
     "output_type": "display_data"
    }
   ],
   "source": [
    "data_flats.hist('days_exposition', range=(500,1600), bins=30)\n",
    "plt.title('Распределение длительности размещения объявления на сайте (увеличенное)')\n",
    "plt.show()"
   ]
  },
  {
   "cell_type": "markdown",
   "metadata": {},
   "source": [
    "На гистограмме видно равномерное снижение. Резко выбивающихся значений нет. С точки зрения правдоподобности данных, квартира могла висеть в продаже несколько лет. По моему мнению, обрезать эти значения и терять часть данных не целесообразно."
   ]
  },
  {
   "cell_type": "markdown",
   "metadata": {},
   "source": [
    "Итак, после удаления выбросов в некоторых переменных осталось 23230 наблюдений. "
   ]
  },
  {
   "cell_type": "markdown",
   "metadata": {},
   "source": [
    "Зависимость между стоимостью квартиры и другими факторами.\n"
   ]
  },
  {
   "cell_type": "code",
   "execution_count": 314,
   "metadata": {
    "scrolled": true
   },
   "outputs": [
    {
     "name": "stdout",
     "output_type": "stream",
     "text": [
      "Матрица корреляции\n"
     ]
    },
    {
     "data": {
      "text/html": [
       "<div>\n",
       "<style scoped>\n",
       "    .dataframe tbody tr th:only-of-type {\n",
       "        vertical-align: middle;\n",
       "    }\n",
       "\n",
       "    .dataframe tbody tr th {\n",
       "        vertical-align: top;\n",
       "    }\n",
       "\n",
       "    .dataframe thead th {\n",
       "        text-align: right;\n",
       "    }\n",
       "</style>\n",
       "<table border=\"1\" class=\"dataframe\">\n",
       "  <thead>\n",
       "    <tr style=\"text-align: right;\">\n",
       "      <th></th>\n",
       "      <th>last_price</th>\n",
       "      <th>total_area</th>\n",
       "      <th>rooms</th>\n",
       "      <th>cityCenters_nearest</th>\n",
       "    </tr>\n",
       "  </thead>\n",
       "  <tbody>\n",
       "    <tr>\n",
       "      <td>last_price</td>\n",
       "      <td>1.0</td>\n",
       "      <td>0.787276</td>\n",
       "      <td>0.497509</td>\n",
       "      <td>-0.34341</td>\n",
       "    </tr>\n",
       "  </tbody>\n",
       "</table>\n",
       "</div>"
      ],
      "text/plain": [
       "            last_price  total_area     rooms  cityCenters_nearest\n",
       "last_price         1.0    0.787276  0.497509             -0.34341"
      ]
     },
     "execution_count": 314,
     "metadata": {},
     "output_type": "execute_result"
    }
   ],
   "source": [
    "print('Матрица корреляции')\n",
    "data_flats[['last_price', 'total_area', 'rooms', 'cityCenters_nearest']].corr().head(1)"
   ]
  },
  {
   "cell_type": "markdown",
   "metadata": {},
   "source": [
    "Самая высокая корреляция между стоимостью и площадью квартиры, 0.8. Корреляция стоимости и числа комнат 0.5. Коэффициент корреляции между стоимостью и числом комнат отрицательный, равен -0.3. Логично, чем дальше от центра квартира, тем она дешевле."
   ]
  },
  {
   "cell_type": "markdown",
   "metadata": {},
   "source": [
    "Проверим эти же зависимости, но не для стоимости квартиры, а для цены за кв.м."
   ]
  },
  {
   "cell_type": "code",
   "execution_count": 315,
   "metadata": {},
   "outputs": [
    {
     "name": "stdout",
     "output_type": "stream",
     "text": [
      "Матрица корреляции\n"
     ]
    },
    {
     "data": {
      "text/html": [
       "<div>\n",
       "<style scoped>\n",
       "    .dataframe tbody tr th:only-of-type {\n",
       "        vertical-align: middle;\n",
       "    }\n",
       "\n",
       "    .dataframe tbody tr th {\n",
       "        vertical-align: top;\n",
       "    }\n",
       "\n",
       "    .dataframe thead th {\n",
       "        text-align: right;\n",
       "    }\n",
       "</style>\n",
       "<table border=\"1\" class=\"dataframe\">\n",
       "  <thead>\n",
       "    <tr style=\"text-align: right;\">\n",
       "      <th></th>\n",
       "      <th>price_per_m2</th>\n",
       "      <th>total_area</th>\n",
       "      <th>rooms</th>\n",
       "      <th>cityCenters_nearest</th>\n",
       "    </tr>\n",
       "  </thead>\n",
       "  <tbody>\n",
       "    <tr>\n",
       "      <td>price_per_m2</td>\n",
       "      <td>1.0</td>\n",
       "      <td>0.141597</td>\n",
       "      <td>-0.074107</td>\n",
       "      <td>-0.383323</td>\n",
       "    </tr>\n",
       "  </tbody>\n",
       "</table>\n",
       "</div>"
      ],
      "text/plain": [
       "              price_per_m2  total_area     rooms  cityCenters_nearest\n",
       "price_per_m2           1.0    0.141597 -0.074107            -0.383323"
      ]
     },
     "execution_count": 315,
     "metadata": {},
     "output_type": "execute_result"
    }
   ],
   "source": [
    "print('Матрица корреляции')\n",
    "data_flats[['price_per_m2', 'total_area', 'rooms', 'cityCenters_nearest']].corr().head(1)"
   ]
  },
  {
   "cell_type": "markdown",
   "metadata": {},
   "source": [
    "Коэффициент корреляции между ценой кв.м и площадью намного ниже (логично), но все таки имеется положительная зависимость. Корреляция с числом комнат близка к нулю. А вот корреляция между ценой кв.м и удаленностью от центра возросла. Да, ближе к центру кв. м недвижимости стоит дороже, не зависимо от общей площади квартиры. "
   ]
  },
  {
   "cell_type": "code",
   "execution_count": 316,
   "metadata": {},
   "outputs": [
    {
     "data": {
      "image/png": "[encoded data removed]",
      "text/plain": [
       "<Figure size 432x288 with 1 Axes>"
      ]
     },
     "metadata": {
      "needs_background": "light"
     },
     "output_type": "display_data"
    }
   ],
   "source": [
    "#Зависимость стоимости квартиры от этажа\n",
    "corr_floor=data_flats.pivot_table(index='floor_group', values='last_price')\n",
    "corr_floor.plot(style='o-', grid=True)\n",
    "plt.title('Зависимость стоимости квартиры от этажа')\n",
    "plt.xlabel('этаж')\n",
    "plt.show()"
   ]
  },
  {
   "cell_type": "markdown",
   "metadata": {},
   "source": [
    "Вывод.\n",
    "На первом этаже стоимость квартир самая низкая. Самая высокая стоимость у квартир, расположенных между первым и последним этажом. Такие результаты выглядят правдоподобно."
   ]
  },
  {
   "cell_type": "code",
   "execution_count": 317,
   "metadata": {},
   "outputs": [
    {
     "data": {
      "image/png": "[encoded data removed]",
      "text/plain": [
       "<Figure size 432x288 with 1 Axes>"
      ]
     },
     "metadata": {
      "needs_background": "light"
     },
     "output_type": "display_data"
    }
   ],
   "source": [
    "#Зависимость стоимости квартиры от дня недели\n",
    "corr_weekday=data_flats.pivot_table(index='weekday_ad', values='last_price')\n",
    "corr_weekday.plot(style='o-', grid=True)\n",
    "plt.title('Зависимость стоимости квартиры от дня недели')\n",
    "plt.xlabel('день недели')\n",
    "plt.show()"
   ]
  },
  {
   "cell_type": "markdown",
   "metadata": {},
   "source": [
    "Вывод.\n",
    "Интересный факт: цена на квартиры постепенно растет с начала недели, достигает своего пика в среду и постепенно снижается. "
   ]
  },
  {
   "cell_type": "code",
   "execution_count": 318,
   "metadata": {
    "scrolled": true
   },
   "outputs": [
    {
     "data": {
      "image/png": "[encoded data removed]",
      "text/plain": [
       "<Figure size 432x288 with 1 Axes>"
      ]
     },
     "metadata": {
      "needs_background": "light"
     },
     "output_type": "display_data"
    }
   ],
   "source": [
    "#Зависимость стоимости квартиры от месяца\n",
    "corr_month = data_flats.pivot_table(index='month_ad', values='last_price')\n",
    "corr_month.plot(style='o-')\n",
    "plt.title('Зависимость стоимости квартиры от месяца')\n",
    "plt.xlabel('месяц')\n",
    "plt.show()"
   ]
  },
  {
   "cell_type": "markdown",
   "metadata": {},
   "source": [
    "Зависимость цен от месяца сложно определить, наблюдаются сильные колебания. Можно сказать, что самая низкая стоимость наблюдается в июне. "
   ]
  },
  {
   "cell_type": "code",
   "execution_count": 319,
   "metadata": {
    "scrolled": true
   },
   "outputs": [
    {
     "data": {
      "image/png": "[encoded data removed]",
      "text/plain": [
       "<Figure size 432x288 with 1 Axes>"
      ]
     },
     "metadata": {
      "needs_background": "light"
     },
     "output_type": "display_data"
    }
   ],
   "source": [
    "#Зависимость стомости квартиры от года\n",
    "corr_year = data_flats.pivot_table(index='year_ad', values='last_price')\n",
    "corr_year.plot(style='o-', grid=True)\n",
    "plt.title('Зависимость стомости квартиры от года')\n",
    "plt.xlabel('год')\n",
    "plt.show()"
   ]
  },
  {
   "cell_type": "markdown",
   "metadata": {},
   "source": [
    "Интересный факт: с 2014 по 2018 средняя цена квартиры падает. Самый резкий спад был в 2015 - 24% по сравнению с 2014 годом. В 2019 выросла на 8% по сравнению с предыдущим годом. "
   ]
  },
  {
   "cell_type": "markdown",
   "metadata": {},
   "source": [
    "### 10 населенных пунктов с наибольшим числом объявлений"
   ]
  },
  {
   "cell_type": "code",
   "execution_count": 320,
   "metadata": {
    "scrolled": true
   },
   "outputs": [
    {
     "data": {
      "text/html": [
       "<div>\n",
       "<style scoped>\n",
       "    .dataframe tbody tr th:only-of-type {\n",
       "        vertical-align: middle;\n",
       "    }\n",
       "\n",
       "    .dataframe tbody tr th {\n",
       "        vertical-align: top;\n",
       "    }\n",
       "\n",
       "    .dataframe thead th {\n",
       "        text-align: right;\n",
       "    }\n",
       "</style>\n",
       "<table border=\"1\" class=\"dataframe\">\n",
       "  <thead>\n",
       "    <tr style=\"text-align: right;\">\n",
       "      <th></th>\n",
       "      <th>count_ad</th>\n",
       "      <th>price_per_m</th>\n",
       "    </tr>\n",
       "    <tr>\n",
       "      <th>locality_name</th>\n",
       "      <th></th>\n",
       "      <th></th>\n",
       "    </tr>\n",
       "  </thead>\n",
       "  <tbody>\n",
       "    <tr>\n",
       "      <td>Санкт-Петербург</td>\n",
       "      <td>15285</td>\n",
       "      <td>110.568924</td>\n",
       "    </tr>\n",
       "    <tr>\n",
       "      <td>Пушкин</td>\n",
       "      <td>366</td>\n",
       "      <td>103.060109</td>\n",
       "    </tr>\n",
       "    <tr>\n",
       "      <td>деревня Кудрово</td>\n",
       "      <td>299</td>\n",
       "      <td>92.508361</td>\n",
       "    </tr>\n",
       "    <tr>\n",
       "      <td>посёлок Парголово</td>\n",
       "      <td>326</td>\n",
       "      <td>90.297546</td>\n",
       "    </tr>\n",
       "    <tr>\n",
       "      <td>посёлок Мурино</td>\n",
       "      <td>520</td>\n",
       "      <td>85.705769</td>\n",
       "    </tr>\n",
       "    <tr>\n",
       "      <td>посёлок Шушары</td>\n",
       "      <td>440</td>\n",
       "      <td>78.700000</td>\n",
       "    </tr>\n",
       "    <tr>\n",
       "      <td>Колпино</td>\n",
       "      <td>337</td>\n",
       "      <td>75.338279</td>\n",
       "    </tr>\n",
       "    <tr>\n",
       "      <td>Гатчина</td>\n",
       "      <td>306</td>\n",
       "      <td>68.761438</td>\n",
       "    </tr>\n",
       "    <tr>\n",
       "      <td>Всеволожск</td>\n",
       "      <td>396</td>\n",
       "      <td>68.661616</td>\n",
       "    </tr>\n",
       "    <tr>\n",
       "      <td>Выборг</td>\n",
       "      <td>234</td>\n",
       "      <td>58.149573</td>\n",
       "    </tr>\n",
       "  </tbody>\n",
       "</table>\n",
       "</div>"
      ],
      "text/plain": [
       "                   count_ad  price_per_m\n",
       "locality_name                           \n",
       "Санкт-Петербург       15285   110.568924\n",
       "Пушкин                  366   103.060109\n",
       "деревня Кудрово         299    92.508361\n",
       "посёлок Парголово       326    90.297546\n",
       "посёлок Мурино          520    85.705769\n",
       "посёлок Шушары          440    78.700000\n",
       "Колпино                 337    75.338279\n",
       "Гатчина                 306    68.761438\n",
       "Всеволожск              396    68.661616\n",
       "Выборг                  234    58.149573"
      ]
     },
     "execution_count": 320,
     "metadata": {},
     "output_type": "execute_result"
    }
   ],
   "source": [
    "#10 населенных пунктов с наибольшим числом объявлений\n",
    "\n",
    "data_l=data_flats.groupby('locality_name').agg({'price_per_m2':['count','mean']})\n",
    "data_l.columns=['count_ad','price_per_m']\n",
    "data_l=data_l.sort_values(by='count_ad', ascending=False).head(10)\n",
    "data_l=data_l.sort_values(by='price_per_m', ascending=False)\n",
    "data_l"
   ]
  },
  {
   "cell_type": "code",
   "execution_count": 321,
   "metadata": {},
   "outputs": [
    {
     "data": {
      "image/png": "[encoded data removed]",
      "text/plain": [
       "<Figure size 1296x360 with 1 Axes>"
      ]
     },
     "metadata": {
      "needs_background": "light"
     },
     "output_type": "display_data"
    }
   ],
   "source": [
    "#График зависимости цены от местоположения\n",
    "data_l.plot(y='price_per_m', figsize=(18,5), style='o-', grid=True)\n",
    "plt.title('График зависимости цены от местоположения')\n",
    "plt.ylabel('тыс.руб. за кв.м')\n",
    "plt.xlabel('')\n",
    "plt.show()"
   ]
  },
  {
   "cell_type": "markdown",
   "metadata": {},
   "source": [
    "Самая высокая стоимость жилья в Санкт-Петербурге (ожидаемо) - 109 тыс.руб. за кв.м, на втором месте Пушкин. Самая низкая стоимость жилья из десяти самых популярных населенных пунктов в Выборге - 58 тыс.руб. за кв.м."
   ]
  },
  {
   "cell_type": "code",
   "execution_count": 322,
   "metadata": {
    "scrolled": false
   },
   "outputs": [
    {
     "data": {
      "image/png": "[encoded data removed]",
      "text/plain": [
       "<Figure size 1080x360 with 1 Axes>"
      ]
     },
     "metadata": {
      "needs_background": "light"
     },
     "output_type": "display_data"
    },
    {
     "data": {
      "image/png": "[encoded data removed]",
      "text/plain": [
       "<Figure size 1080x360 with 1 Axes>"
      ]
     },
     "metadata": {
      "needs_background": "light"
     },
     "output_type": "display_data"
    }
   ],
   "source": [
    "#Выборка для квартир в Санкт-Петербурге\n",
    "data_Piter=data_flats[data_flats['locality_name']=='Санкт-Петербург']\n",
    "#Средняя цена для каждого километра\n",
    "data_Piter_1=data_flats.groupby('cityCenters_nearest')['price_per_m2'].mean()\n",
    "data_Piter_1.plot(figsize=(15,5), grid=True)\n",
    "plt.title('Зависимость цены кв.м от удаленности от центра города')\n",
    "plt.xlabel('км')\n",
    "plt.ylabel('тыс.руб.')\n",
    "plt.show()\n",
    "\n",
    "data_Piter_1.plot(figsize=(15,5), grid=True, xlim=(0,10))\n",
    "plt.title('Зависимость цены кв.м от удаленности от центра города')\n",
    "plt.xlabel('км')\n",
    "plt.ylabel('тыс.руб.')\n",
    "plt.show()"
   ]
  },
  {
   "cell_type": "markdown",
   "metadata": {},
   "source": [
    "В левой части графика (от 1 до 3 км) общий тренд нисходящий. От 0 до 1 км наблюдается аномалия. Это может быть связано с тем, что данные об удаленности от центра неверные (намеренно заниженные), либо некорректно указана цена (намеренно занижена). Так же причина может быть в особенностях исторической застройки города, возможно в самом центре расположен более старый жилой фонд. Мы эти данные отнесем к центру города, не смотря на аномалию. Чем дальше недвижимость удалена от центра города, тем дешевле кв.м. Однако после отметки в 3 км аномалии становятся более частыми и резкими. Уже не наблюдается обратная зависимость между двумя показателями. Причиной может служить то, что цена уже напрямую не зависит от удаленности от центра, появляются различные районы и новые жилые комплексы. Таким образом, под центральной частью города я бы выделила интервал от 0 до 3 км.   "
   ]
  },
  {
   "cell_type": "code",
   "execution_count": 323,
   "metadata": {},
   "outputs": [
    {
     "name": "stdout",
     "output_type": "stream",
     "text": [
      "<class 'pandas.core.frame.DataFrame'>\n",
      "Int64Index: 775 entries, 24 to 23648\n",
      "Data columns (total 29 columns):\n",
      "total_images            775 non-null int64\n",
      "last_price              775 non-null float64\n",
      "total_area              775 non-null float64\n",
      "first_day_exposition    775 non-null datetime64[ns]\n",
      "rooms                   775 non-null int64\n",
      "ceiling_height          538 non-null float64\n",
      "floors_total            773 non-null float64\n",
      "living_area             775 non-null float64\n",
      "floor                   775 non-null int64\n",
      "is_apartment            775 non-null bool\n",
      "studio                  775 non-null bool\n",
      "open_plan               775 non-null bool\n",
      "kitchen_area            775 non-null float64\n",
      "balcony                 775 non-null int64\n",
      "locality_name           775 non-null object\n",
      "airports_nearest        775 non-null float64\n",
      "cityCenters_nearest     775 non-null float64\n",
      "parks_around3000        775 non-null int64\n",
      "parks_nearest           598 non-null float64\n",
      "ponds_around3000        775 non-null int64\n",
      "ponds_nearest           679 non-null float64\n",
      "days_exposition         642 non-null float64\n",
      "price_per_m2            775 non-null float64\n",
      "weekday_ad              775 non-null int64\n",
      "month_ad                775 non-null int64\n",
      "year_ad                 775 non-null int64\n",
      "floor_group             775 non-null object\n",
      "part_living             775 non-null float64\n",
      "part_kitchen            775 non-null float64\n",
      "dtypes: bool(3), datetime64[ns](1), float64(14), int64(9), object(2)\n",
      "memory usage: 165.7+ KB\n"
     ]
    }
   ],
   "source": [
    "#Сегмент квартир в центре города (не более 3 км от центра)\n",
    "data_Piter_center=data_Piter[data_Piter['cityCenters_nearest']<=3]\n",
    "data_Piter_center.info()"
   ]
  },
  {
   "cell_type": "markdown",
   "metadata": {},
   "source": [
    "Итак, квартир в центре города оказалось 775, что составляет 5% от выборки по Санкт-Петербургу."
   ]
  },
  {
   "cell_type": "code",
   "execution_count": 324,
   "metadata": {},
   "outputs": [
    {
     "name": "stdout",
     "output_type": "stream",
     "text": [
      "Средняя площадь кварты в центре 86.30802580645161\n",
      "Средняя площадь кварты 57.66428153250108\n"
     ]
    }
   ],
   "source": [
    "#Средняя площадь кварты в центре\n",
    "print('Средняя площадь кварты в центре', data_Piter_center['total_area'].mean())\n",
    "print('Средняя площадь кварты', data_flats['total_area'].mean())"
   ]
  },
  {
   "cell_type": "markdown",
   "metadata": {},
   "source": [
    "Средняя площадь квартиры в центре выше более, чем на 28 кв.м. Это большая разница (повышение на 50%)."
   ]
  },
  {
   "cell_type": "code",
   "execution_count": 325,
   "metadata": {},
   "outputs": [
    {
     "name": "stdout",
     "output_type": "stream",
     "text": [
      "Средняя стоимость кв.м в центре 126.55612903225807\n",
      "Средняя стоимость кв.м в 96.36521739130434\n"
     ]
    }
   ],
   "source": [
    "#Средняя стоимость кв.м в центре\n",
    "print('Средняя стоимость кв.м в центре', data_Piter_center['price_per_m2'].mean())\n",
    "print('Средняя стоимость кв.м в', data_flats['price_per_m2'].mean())"
   ]
  },
  {
   "cell_type": "markdown",
   "metadata": {},
   "source": [
    "Средняя стоимость квадратного метра в центре города выше на 30 тыс.руб. - ожидаемо (повышение на 31%)."
   ]
  },
  {
   "cell_type": "code",
   "execution_count": 326,
   "metadata": {},
   "outputs": [
    {
     "name": "stdout",
     "output_type": "stream",
     "text": [
      "Среднее число комнат в центре 2.898064516129032\n",
      "Среднее число комнат 2.0234610417563497\n"
     ]
    }
   ],
   "source": [
    "#Среднее число комнат в центре\n",
    "print('Среднее число комнат в центре', data_Piter_center['rooms'].mean())\n",
    "print('Среднее число комнат', data_flats['rooms'].mean())"
   ]
  },
  {
   "cell_type": "markdown",
   "metadata": {},
   "source": [
    "Среднее число комнат увеличилось на 1 (повышение на 44%)."
   ]
  },
  {
   "cell_type": "code",
   "execution_count": 327,
   "metadata": {},
   "outputs": [
    {
     "name": "stdout",
     "output_type": "stream",
     "text": [
      "Средняя высота потолков в центре 3.1761338289962824\n",
      "Средняя высота потолков 2.7128627893845283\n"
     ]
    }
   ],
   "source": [
    "#Средняя высота потолков в центре\n",
    "print('Средняя высота потолков в центре', data_Piter_center['ceiling_height'].mean())\n",
    "print('Средняя высота потолков', data_flats['ceiling_height'].mean())"
   ]
  },
  {
   "cell_type": "markdown",
   "metadata": {},
   "source": [
    "Средняя высота потолков выше - на 0.5 м. Это ощутимая разница (повышение на 17%)."
   ]
  },
  {
   "cell_type": "markdown",
   "metadata": {},
   "source": [
    "Итак, среднее значение всех четырех показателей оказалось выше для квартир в центре города. Квартиры в центре значительно дороже и просторнее."
   ]
  },
  {
   "cell_type": "markdown",
   "metadata": {},
   "source": [
    "(РЕЗУЛЬТАТЫ ДЛЯ ВСЕЙ ВЫБОРКИ)\n",
    "Корреляция между стоимостью квартиры и сл.параметрами:\n",
    "- *Площадь квартиры* -  0.77\n",
    "- *Число комнат* -  0.5\n",
    "- *Удаленность от центра* -  -0.36"
   ]
  },
  {
   "cell_type": "code",
   "execution_count": 328,
   "metadata": {},
   "outputs": [
    {
     "name": "stdout",
     "output_type": "stream",
     "text": [
      "Матрица корреляции для центра города\n"
     ]
    },
    {
     "data": {
      "text/html": [
       "<div>\n",
       "<style scoped>\n",
       "    .dataframe tbody tr th:only-of-type {\n",
       "        vertical-align: middle;\n",
       "    }\n",
       "\n",
       "    .dataframe tbody tr th {\n",
       "        vertical-align: top;\n",
       "    }\n",
       "\n",
       "    .dataframe thead th {\n",
       "        text-align: right;\n",
       "    }\n",
       "</style>\n",
       "<table border=\"1\" class=\"dataframe\">\n",
       "  <thead>\n",
       "    <tr style=\"text-align: right;\">\n",
       "      <th></th>\n",
       "      <th>last_price</th>\n",
       "      <th>total_area</th>\n",
       "      <th>rooms</th>\n",
       "      <th>cityCenters_nearest</th>\n",
       "    </tr>\n",
       "  </thead>\n",
       "  <tbody>\n",
       "    <tr>\n",
       "      <td>last_price</td>\n",
       "      <td>1.0</td>\n",
       "      <td>0.652843</td>\n",
       "      <td>0.409632</td>\n",
       "      <td>-0.152563</td>\n",
       "    </tr>\n",
       "  </tbody>\n",
       "</table>\n",
       "</div>"
      ],
      "text/plain": [
       "            last_price  total_area     rooms  cityCenters_nearest\n",
       "last_price         1.0    0.652843  0.409632            -0.152563"
      ]
     },
     "execution_count": 328,
     "metadata": {},
     "output_type": "execute_result"
    }
   ],
   "source": [
    "print('Матрица корреляции для центра города')\n",
    "data_Piter_center[['last_price', 'total_area', 'rooms', 'cityCenters_nearest']].corr().head(1)"
   ]
  },
  {
   "cell_type": "markdown",
   "metadata": {},
   "source": [
    "Коэффициент корреляции во всех трех случаях снизился по модулю. Во-первых, это может быть связано с размерностью выборки. Чем меньше объем данных, тем сложнее выявить зависимости между показателями. Во-вторых, в центре города влияние данных факторов на стоимость квартиры снижается, возрастает роль других переменных. Если квартира просторная, с большим количеством комнат, дополнительные метры уже не будут играть большую роль при формировании цены. Так же и параметр удаленности от центра подвергается закону убывающей отдачи. Уже не важно, будет квартира расположена в 1 км от центра или в 2 км. Корреляция этого параметра с ценой вообще в этом случае стремится к нулю. Это логично, ведь мы ограничили выборку именно по этому параметру (всего до 3 км). "
   ]
  },
  {
   "cell_type": "code",
   "execution_count": 329,
   "metadata": {},
   "outputs": [
    {
     "data": {
      "image/png": "[encoded data removed]",
      "text/plain": [
       "<Figure size 432x288 with 1 Axes>"
      ]
     },
     "metadata": {
      "needs_background": "light"
     },
     "output_type": "display_data"
    }
   ],
   "source": [
    "#Зависимость цены квартиры от этажа\n",
    "corr_floor_center = data_Piter_center.pivot_table(index='floor_group', values='last_price')\n",
    "corr_floor_center['whole_data']=corr_floor['last_price']\n",
    "corr_floor_center.columns=['center','whole_data']\n",
    "corr_floor_center.plot(style='o-', grid=True)\n",
    "plt.title('Зависимость стоимости квартиры от этажа')\n",
    "plt.xlabel('этаж')\n",
    "plt.ylabel('тыс.руб.')\n",
    "plt.show()\n",
    "\n"
   ]
  },
  {
   "cell_type": "markdown",
   "metadata": {},
   "source": [
    "Влияние этажа на стоимость квартиры увеличивается в центре города. Первый этаж по прежнему остается самым дешевым, на втором месте последний этаж. Разница между первым и другими утажами выросла. Возможно, график становится менее сглаженным из-за сильного снижения количества данных (это видно и на сл.графиках)."
   ]
  },
  {
   "cell_type": "code",
   "execution_count": 330,
   "metadata": {},
   "outputs": [
    {
     "data": {
      "image/png": "[encoded data removed]",
      "text/plain": [
       "<Figure size 432x288 with 1 Axes>"
      ]
     },
     "metadata": {
      "needs_background": "light"
     },
     "output_type": "display_data"
    }
   ],
   "source": [
    "#Зависимость цены квартиры от дня недели\n",
    "corr_weekday_center = data_Piter_center.pivot_table(index='weekday_ad', values='last_price')\n",
    "corr_weekday_center['whole_data']=corr_weekday['last_price']\n",
    "corr_weekday_center.columns=['center','whole_data']\n",
    "corr_weekday_center.plot(style='o-', grid=True)\n",
    "plt.title('Зависимость стоимости квартиры от дня недели публикации объявления')\n",
    "plt.xlabel('день недели')\n",
    "plt.ylabel('тыс.руб.')\n",
    "plt.show()"
   ]
  },
  {
   "cell_type": "markdown",
   "metadata": {},
   "source": [
    "Общий тренд не изменился. Своего пика цены достигают в среду, самый большой спад в субботу. Но перепады стали более резкими, разрыв между минимальной и максимальной ценой значительно больше. "
   ]
  },
  {
   "cell_type": "code",
   "execution_count": 331,
   "metadata": {},
   "outputs": [
    {
     "data": {
      "image/png": "[encoded data removed]",
      "text/plain": [
       "<Figure size 432x288 with 1 Axes>"
      ]
     },
     "metadata": {
      "needs_background": "light"
     },
     "output_type": "display_data"
    }
   ],
   "source": [
    "#Зависимость цены квартиры в ЦЕНТРЕ города от месяца\n",
    "corr_month_center = data_Piter_center.pivot_table(index='month_ad', values='last_price')\n",
    "corr_month_center['whole_data']=corr_month['last_price']\n",
    "corr_month_center.columns=['center','whole_data']\n",
    "corr_month_center.plot(style='o-', grid=True)\n",
    "plt.title('Зависимость стоимости квартиры от месяца публикации объявления')\n",
    "plt.xlabel('месяц')\n",
    "plt.ylabel('тыс.руб.')\n",
    "plt.show()"
   ]
  },
  {
   "cell_type": "markdown",
   "metadata": {},
   "source": [
    "Общий вид графика не сохраняется. Но по-прежнему сложно отследить зависимость.\n"
   ]
  },
  {
   "cell_type": "code",
   "execution_count": 332,
   "metadata": {},
   "outputs": [
    {
     "data": {
      "image/png": "[encoded data removed]",
      "text/plain": [
       "<Figure size 432x288 with 1 Axes>"
      ]
     },
     "metadata": {
      "needs_background": "light"
     },
     "output_type": "display_data"
    }
   ],
   "source": [
    "#Зависимость цены квартиры в ЦЕНТРЕ города от года\n",
    "corr_year_center = data_Piter_center.pivot_table(index='year_ad', values='last_price')\n",
    "corr_year_center['whole_data']=corr_year['last_price']\n",
    "corr_year_center.columns=['center','whole_data']\n",
    "corr_year_center.plot(style='o-', grid=True)\n",
    "plt.title('Зависимость стоимости квартиры от года публикации объявления')\n",
    "plt.xlabel('год')\n",
    "plt.ylabel('тыс.руб.')\n",
    "plt.show()"
   ]
  },
  {
   "cell_type": "markdown",
   "metadata": {},
   "source": [
    "Общий вид графиков очень похож, однако рост цен начинается не с 2019 года, а с 2018. "
   ]
  },
  {
   "cell_type": "markdown",
   "metadata": {},
   "source": [
    "Итак, большинство трендов сохраняется для квартир в центре города. Однако, графики становятся более резкими, то есть влияние таких факторов как этаж и день недели публикации объявления играют более ощутимую роль. Однако, это может быть связано с уменьшением объема выборки, которое приводит к снижению сглаженности графиков. Более того, видно, что цены на квартиры в центре начали расти на год раньше. "
   ]
  },
  {
   "cell_type": "markdown",
   "metadata": {},
   "source": [
    "### Шаг 5. Общий вывод"
   ]
  },
  {
   "cell_type": "markdown",
   "metadata": {},
   "source": [
    "Изначально в выборке было 23698 наблюдений.\n",
    "В 14 из 22 столбцов присутствовали пропущенные значения. В трех переменных (число балконов, число водоемов поблизости, число парков поблизости) пропуски были заменены на 0. В двух столбцах (площади кухни, площадь жилой площади) пропуски были заполнены рассчетными значениями.\n",
    "В 6 переменных был изменен тип данных на более корректный.\n",
    "В двух переменных (цена квартиры, расстояние до центра) были изменены единицы измерения для более удобного последующего анализа.\n",
    "Далее в таблицу были добавлены 7 новых столбцов.\n",
    "Были изучены следующие параметры: площадь, цена, число комнат, высота потолков, время продажи. Из некоторых из них были удалены выбросы, несущие риск искажения результатов анализа. После этого осталось 23230 наблюдений. \n",
    "\n",
    "На отфильтрованных данных была рассмотрена зависимость между стоимостью квартиры и другими факторами. \n",
    "Взаимозависимость между стоимость и такими переменными как площадь квартиры, число комнат, удаленность от центра, подтвердилась. \n",
    "Принадлежность к первому и последнему этажу показали снижение средней стоимости.\n",
    "Самая высокая стоимость продажи оказалась у объявлений, размещенных в середине недели.\n",
    "Явную зависимость между ценой продажи и месяцем размещения объявления отследить не удалось.\n",
    "С 2014 по 2018 год наблюдался спад цен на недвижимость, в 2019 году цены начали расти по сравнению с предыдущим годом.\n",
    "\n",
    "Далее было выбрано 10 населенных пунктов с наибольшим количеством наблюдений. Среди них самая высокая стоимость жилья в Санкт-Петербурге, самая низкая - в Выборге.\n",
    "\n",
    "Затем были отфильтрованы только квартиры, расположенные в Санкт-Петербурге. На основе графика взаимозависимости цены продажи и удаленности от центра города, был выделен сегмент квартир в центре. Была сформирована новая выборка - квартиры в центре Санкт-Петербурга (775 наблюдений). Была рассмотрена разница между средними показателями некоторых переменных (площадь, цена, число комнат, высота потолков) для первоначальной и новой выборки. Все рассмотренные значения показали сильное увеличение. Средняя площадь выросла аж на 50%, цена кв.м - на 31%, среднее количество комнат увеличилось на 1, а высота потолков - на 0.5 м. Общие тренды зависимости стоимости от этажа и дня недели публикации объявления сохранились. Так же было ообнаружено, что цены на квартры в центре города начали расти на год раньше. \n",
    "\n",
    "Таким образом, основные гипотезы зависимости цены квартир от других параметров подтвердились. На примере ограничения выборки, было показано, что средние значения разных переменных сильно зависят от местоположения недвижимости. \n",
    "\n",
    "Был выявлен ряд критерив (таких как площадь, высота потолков, цена, количество комнат) для отнесения объявлений в разряд \"подозрительных\" для повторной проверки. \n",
    "\n"
   ]
  }
 ],
 "metadata": {
  "kernelspec": {
   "display_name": "Python 3",
   "language": "python",
   "name": "python3"
  },
  "language_info": {
   "codemirror_mode": {
    "name": "ipython",
    "version": 3
   },
   "file_extension": ".py",
   "mimetype": "text/x-python",
   "name": "python",
   "nbconvert_exporter": "python",
   "pygments_lexer": "ipython3",
   "version": "3.7.6"
  }
 },
 "nbformat": 4,
 "nbformat_minor": 2
}
